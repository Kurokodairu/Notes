{
 "cells": [
  {
   "cell_type": "code",
   "execution_count": 9,
   "metadata": {},
   "outputs": [],
   "source": [
    "import pandas as pd\n",
    "import numpy as np\n",
    "from typing import *"
   ]
  },
  {
   "cell_type": "code",
   "execution_count": null,
   "metadata": {},
   "outputs": [],
   "source": [
    "#Input:\n",
    "#+------------+---------+-----+\n",
    "#| student_id | name    | age |\n",
    "#+------------+---------+-----+\n",
    "#| 101        | Ulysses | 13  |\n",
    "#| 53         | William | 10  |\n",
    "#| 128        | Henry   | 6   |\n",
    "#| 3          | Henry   | 11  |\n",
    "#+------------+---------+-----+\n",
    "def selectData(students: pd.DataFrame) -> pd.DataFrame:\n",
    "\n",
    "    return students.loc[students['student_id'] == 101, [\"name\", \"age\"]]"
   ]
  },
  {
   "cell_type": "code",
   "execution_count": 20,
   "metadata": {},
   "outputs": [],
   "source": [
    "#Write a solution to create a new column name bonus that contains the doubled values of the salary column.\n",
    "#The result format is in the following example.\n",
    "#Example 1:\n",
    "#Input:\n",
    "#DataFrame employees\n",
    "#+---------+--------+\n",
    "#| name    | salary |\n",
    "#+---------+--------+\n",
    "#| Piper   | 4548   |\n",
    "#| Grace   | 28150  |\n",
    "#| Georgia | 1103   |\n",
    "#| Willow  | 6593   |\n",
    "#| Finn    | 74576  |\n",
    "#| Thomas  | 24433  |\n",
    "#+---------+--------+"
   ]
  },
  {
   "cell_type": "code",
   "execution_count": null,
   "metadata": {},
   "outputs": [],
   "source": [
    "def createBonusColumn(employees: pd.DataFrame) -> pd.DataFrame:\n",
    "    employees['bonus'] = employees['salary'] * 2\n",
    "    return employees"
   ]
  },
  {
   "cell_type": "code",
   "execution_count": null,
   "metadata": {},
   "outputs": [],
   "source": [
    "def dropDuplicateEmails(customers: pd.DataFrame) -> pd.DataFrame:\n",
    "    return customers.drop_duplicates(subset=['email'])"
   ]
  },
  {
   "cell_type": "code",
   "execution_count": null,
   "metadata": {},
   "outputs": [],
   "source": [
    "def dropMissingData(students: pd.DataFrame) -> pd.DataFrame:\n",
    "    return students.dropna()"
   ]
  }
 ],
 "metadata": {
  "kernelspec": {
   "display_name": ".venv",
   "language": "python",
   "name": "python3"
  },
  "language_info": {
   "codemirror_mode": {
    "name": "ipython",
    "version": 3
   },
   "file_extension": ".py",
   "mimetype": "text/x-python",
   "name": "python",
   "nbconvert_exporter": "python",
   "pygments_lexer": "ipython3",
   "version": "3.13.1"
  }
 },
 "nbformat": 4,
 "nbformat_minor": 2
}
