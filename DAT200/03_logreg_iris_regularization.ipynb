{
 "cells": [
  {
   "cell_type": "code",
   "execution_count": 13,
   "metadata": {},
   "outputs": [],
   "source": [
    "import numpy as np\n",
    "from sklearn import datasets\n",
    "from sklearn.linear_model import LogisticRegression\n",
    "from sklearn.metrics import accuracy_score\n",
    "from sklearn.model_selection import train_test_split\n",
    "from sklearn.preprocessing import StandardScaler\n",
    "\n"
   ]
  },
  {
   "cell_type": "code",
   "execution_count": 14,
   "metadata": {},
   "outputs": [],
   "source": [
    "data = datasets.load_breast_cancer()\n",
    "X = data.data\n",
    "y = data.target\n",
    "\n",
    "X_train, X_test, y_train, y_test = train_test_split(\n",
    "    X, y, test_size=0.3, random_state=1)\n",
    "\n",
    "# Scale features\n",
    "sc = StandardScaler()\n",
    "X_train_scaled = sc.fit_transform(X_train)\n",
    "X_test_scaled = sc.transform(X_test)\n",
    "\n"
   ]
  },
  {
   "cell_type": "code",
   "execution_count": 17,
   "metadata": {},
   "outputs": [
    {
     "name": "stdout",
     "output_type": "stream",
     "text": [
      "Results for C=100.0:\n",
      "Misclassified training samples: 2\n",
      "Misclassified test samples: 6\n",
      "Training accuracy: 0.995\n",
      "Test accuracy: 0.965\n"
     ]
    }
   ],
   "source": [
    "# Initialize and train model with increased max_iter\n",
    "lr = LogisticRegression(C=100.0, random_state=1, max_iter=1000)\n",
    "lr.fit(X_train_scaled, y_train)\n",
    "\n",
    "# Make predictions\n",
    "y_train_pred = lr.predict(X_train_scaled)\n",
    "y_test_pred = lr.predict(X_test_scaled)\n",
    "\n",
    "# Print results for C=100.0\n",
    "print(\"Results for C=100.0:\")\n",
    "print('Misclassified training samples: %d' % (y_train != y_train_pred).sum())\n",
    "print('Misclassified test samples: %d' % (y_test != y_test_pred).sum())\n",
    "print('Training accuracy: %.3f' % accuracy_score(y_train, y_train_pred))\n",
    "print('Test accuracy: %.3f' % accuracy_score(y_test, y_test_pred))\n"
   ]
  },
  {
   "cell_type": "code",
   "execution_count": 19,
   "metadata": {},
   "outputs": [
    {
     "name": "stdout",
     "output_type": "stream",
     "text": [
      "\n",
      "Accuracy for different values of C:\n",
      "C\t\tTraining Accuracy\tTest Accuracy\n",
      "--------------------------------------------------\n",
      "0.01    \t0.947\t\t0.965\n",
      "0.10    \t0.987\t\t0.965\n",
      "1.00    \t0.990\t\t0.971\n",
      "10.00   \t0.992\t\t0.959\n",
      "100.00  \t0.995\t\t0.965\n",
      "1000.00 \t0.997\t\t0.947\n"
     ]
    }
   ],
   "source": [
    "# ==============================================================================\n",
    "# Test different values of C\n",
    "# ==============================================================================\n",
    "\n",
    "C_values = [0.01, 0.1, 1.0, 10.0, 100.0, 1000.0]\n",
    "print(\"\\nAccuracy for different values of C:\")\n",
    "print(\"C\\t\\tTraining Accuracy\\tTest Accuracy\")\n",
    "print(\"-\" * 50)\n",
    "\n",
    "for C in C_values:\n",
    "    # Train model with current C value\n",
    "    lr = LogisticRegression(C=C, random_state=1, max_iter=1000)\n",
    "    lr.fit(X_train_scaled, y_train)\n",
    "    \n",
    "    # Calculate accuracies\n",
    "    train_acc = accuracy_score(y_train, lr.predict(X_train_scaled))\n",
    "    test_acc = accuracy_score(y_test, lr.predict(X_test_scaled))\n",
    "    \n",
    "    # Print results\n",
    "    print(f\"{C:<8.2f}\\t{train_acc:.3f}\\t\\t{test_acc:.3f}\")"
   ]
  },
  {
   "cell_type": "code",
   "execution_count": null,
   "metadata": {},
   "outputs": [],
   "source": []
  }
 ],
 "metadata": {
  "kernelspec": {
   "display_name": ".venv",
   "language": "python",
   "name": "python3"
  },
  "language_info": {
   "codemirror_mode": {
    "name": "ipython",
    "version": 3
   },
   "file_extension": ".py",
   "mimetype": "text/x-python",
   "name": "python",
   "nbconvert_exporter": "python",
   "pygments_lexer": "ipython3",
   "version": "3.13.1"
  }
 },
 "nbformat": 4,
 "nbformat_minor": 2
}
