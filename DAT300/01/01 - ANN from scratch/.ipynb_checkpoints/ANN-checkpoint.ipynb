{
 "cells": [
  {
   "cell_type": "markdown",
   "metadata": {
    "slideshow": {
     "slide_type": "slide"
    }
   },
   "source": [
    "# Chapter 12 - Implementing a Multi-layer Artificial Neural Network from Scratch\n"
   ]
  },
  {
   "cell_type": "markdown",
   "metadata": {
    "slideshow": {
     "slide_type": "-"
    }
   },
   "source": [
    "<center><img src=\"./images/irobot.jpg\" alt=\"iRobot\" style=\"width: 840px;\"/></center>"
   ]
  },
  {
   "cell_type": "markdown",
   "metadata": {
    "slideshow": {
     "slide_type": "slide"
    }
   },
   "source": [
    "### Overview"
   ]
  },
  {
   "cell_type": "markdown",
   "metadata": {
    "slideshow": {
     "slide_type": "-"
    }
   },
   "source": [
    "- [Modeling complex functions with artificial neural networks](#Modeling-complex-functions-with-artificial-neural-networks)\n",
    "  - [Single-layer neural network recap](#Single-layer-neural-network-recap)\n",
    "  - [Introducing the multi-layer neural network architecture](#Introducing-the-multi-layer-neural-network-architecture)\n",
    "  - [Activating a neural network via forward propagation](#Activating-a-neural-network-via-forward-propagation)\n",
    "- [Training an artificial neural network](#Training-an-artificial-neural-network)\n",
    "  - [Computing the logistic cost function](#Computing-the-logistic-cost-function)\n",
    "  - [Developing your intuition for backpropagation](#Developing-your-intuition-for-backpropagation)\n",
    "  - [Training neural networks via backpropagation](#Training-neural-networks-via-backpropagation)\n",
    "- [Convergence in neural networks](#Convergence-in-neural-networks)\n",
    "- [Summary](#Summary)"
   ]
  },
  {
   "cell_type": "code",
   "execution_count": 2,
   "metadata": {
    "slideshow": {
     "slide_type": "skip"
    }
   },
   "outputs": [],
   "source": [
    "from IPython.display import Image\n",
    "%matplotlib inline"
   ]
  },
  {
   "cell_type": "markdown",
   "metadata": {
    "slideshow": {
     "slide_type": "slide"
    }
   },
   "source": [
    "# Modeling complex functions with artificial neural networks"
   ]
  },
  {
   "cell_type": "markdown",
   "metadata": {
    "slideshow": {
     "slide_type": "-"
    }
   },
   "source": [
    "<table><tr><td><img src=\"./images/brain.jpg\" alt=\"Brain\" style=\"width: 300px;\"/></td><td><img src=\"./images/neuron.png\" alt=\"Neuron\" style=\"width: 300px;\"/></td></tr></table>  "
   ]
  },
  {
   "cell_type": "markdown",
   "metadata": {
    "slideshow": {
     "slide_type": "slide"
    }
   },
   "source": [
    "- Neural network history begins in the 1940s with Warren McCulloch and Walter Pitt\n",
    "    - Threshold Logic Units\n",
    "<img src=\"./images/TLU.png\" alt=\"TLU\" style=\"width: 600px;\"/>  \n",
    "- Rosenblatt's perceptron in the 1958\n",
    "    - TLU with learning algorithm\n",
    "    - Still in use\n",
    "    - Community lost interest until ..."
   ]
  },
  {
   "cell_type": "markdown",
   "metadata": {
    "slideshow": {
     "slide_type": "fragment"
    }
   },
   "source": [
    "- D.E. Rumelhart G.E. Hinton and R.J. Williams (re)discovered and popularized backpropagation in 1986\n",
    "    - Interest reduced again with lack of sufficient computing power and rise of competing methods\n",
    "- After ups and downs, several important discoveries were made in the late 200Xs and a revolution from around 2012 (+/-)\n",
    "    - We will come back to this in the CNN lessons"
   ]
  },
  {
   "cell_type": "markdown",
   "metadata": {
    "slideshow": {
     "slide_type": "slide"
    }
   },
   "source": [
    "## Single-layer neural network recap\n",
    "### ADAptive LInear NEuron (Adaline)\n",
    "Defined for a two-class problem."
   ]
  },
  {
   "cell_type": "markdown",
   "metadata": {
    "slideshow": {
     "slide_type": "-"
    }
   },
   "source": [
    "<img src=\"./images/12_01.png\" alt=\"Adaline\" style=\"width: 600px;\"/>"
   ]
  },
  {
   "cell_type": "markdown",
   "metadata": {
    "slideshow": {
     "slide_type": "slide"
    }
   },
   "source": [
    "### Net input:  \n",
    "$z = \\sum_j w_j x_j = \\bf{w^T x}$"
   ]
  },
  {
   "cell_type": "markdown",
   "metadata": {
    "slideshow": {
     "slide_type": "fragment"
    }
   },
   "source": [
    "### Activation function\n",
    "For Adaline: \n",
    "The identity activation function simplifies the learning algorithm and allows for straightforward weight updates based on the linear relationship between the inputs and the target outputs\n",
    "\n",
    "$\\phi (z) = z = a$  \n",
    "  \n",
    "For Logistic Regression:  \n",
    "$\\phi (z) = \\frac{1}{1+e^{-z}} = a$"
   ]
  },
  {
   "cell_type": "markdown",
   "metadata": {
    "slideshow": {
     "slide_type": "fragment"
    }
   },
   "source": [
    "### Threshold (for Adaline):  \n",
    "$\n",
    "\\begin{equation}\n",
    "  \\hat{y}=\\begin{cases}\n",
    "    1  \\text{ if } g(z) \\geq 0\\\\\n",
    "    -1  \\text{ otherwise}.\n",
    "  \\end{cases}\n",
    "\\end{equation}\n",
    "$"
   ]
  },
  {
   "cell_type": "markdown",
   "metadata": {
    "slideshow": {
     "slide_type": "slide"
    }
   },
   "source": [
    "### Weight update\n",
    "Gradient descent:  \n",
    "$\\bf{w:=w} + \\Delta \\bf{w}$, where $\\Delta \\bf{w} = -\\eta \\nabla \\it{J} \\bf{(w)}$,  \n",
    "i.e. the gradient based on the whole training set, taking a step opposite to the gradient.\n",
    "\n",
    "- Remebmer: The gradient of a function indicates the direction in which the function's value increases the fastest"
   ]
  },
  {
   "cell_type": "markdown",
   "metadata": {
    "slideshow": {
     "slide_type": "fragment"
    }
   },
   "source": [
    "Cost function, sum of squared errors (SSE):  \n",
    "$\\it{J} \\bf{(w)} = \\frac{1}{2}\\sum^n_{i=1} (y^{(i)}-\\phi (z^{(i)}))^2$"
   ]
  },
  {
   "cell_type": "markdown",
   "metadata": {
    "slideshow": {
     "slide_type": "fragment"
    }
   },
   "source": [
    "Partial derivative:  \n",
    "$\\frac{\\partial}{\\partial w_j} \\it{J} (\\bf{w}) = -\\sum_i (y^{(i)} - \\phi (z^{(i)}))x^{(i)}_j$,  \n",
    "where (y, x, a) are (target label, sample and activation)."
   ]
  },
  {
   "cell_type": "code",
   "execution_count": 1,
   "metadata": {
    "slideshow": {
     "slide_type": "slide"
    }
   },
   "outputs": [],
   "source": [
    "import numpy as np\n",
    "import pandas as pd\n",
    "import matplotlib.pyplot as plt\n",
    "from matplotlib.colors import ListedColormap\n",
    "from adalineB import AdalineGD               # Adaline which stores the w-sequence (compare code to previous slide)"
   ]
  },
  {
   "cell_type": "code",
   "execution_count": 2,
   "metadata": {
    "slideshow": {
     "slide_type": "fragment"
    }
   },
   "outputs": [],
   "source": [
    "from sklearn import datasets, preprocessing\n",
    "iris = datasets.load_iris()\n",
    "y_all = pd.DataFrame(iris['target'])\n",
    "X_all = pd.DataFrame(iris['data'])\n",
    "classNames = iris['target_names']\n",
    "\n",
    "# Subset of the Iris data\n",
    "firstClass = 0; secondClass = 1\n",
    "y = y_all[(y_all[0] == firstClass) | (y_all[0] == secondClass)]\n",
    "X = X_all.loc[y.index, [0, 2]].values\n",
    "\n",
    "y = y.values\n",
    "y = np.where(y == 0, -1, 1) # Change from 0,1 to -1,1\n",
    "# Get shape from (100,1) to (100,), needed for boundary plotting function\n",
    "y = y.reshape((np.shape(y)[0],)) "
   ]
  },
  {
   "cell_type": "code",
   "execution_count": 3,
   "metadata": {
    "slideshow": {
     "slide_type": "slide"
    }
   },
   "outputs": [
    {
     "data": {
      "image/png": "[encoded data removed]",
      "text/plain": [
       "<Figure size 640x480 with 1 Axes>"
      ]
     },
     "metadata": {},
     "output_type": "display_data"
    }
   ],
   "source": [
    "# Inspect raw data\n",
    "plt.scatter(X[:50, 0], X[:50, 1],\n",
    "            color='red', marker='o', label=classNames[firstClass])\n",
    "plt.scatter(X[50:100, 0], X[50:100, 1],\n",
    "            color='blue', marker='x', label=classNames[secondClass])\n",
    "\n",
    "plt.xlabel('sepal length [cm]')\n",
    "plt.ylabel('petal length [cm]')\n",
    "plt.legend(loc='upper left')\n",
    "plt.show()"
   ]
  },
  {
   "cell_type": "code",
   "execution_count": 6,
   "metadata": {
    "slideshow": {
     "slide_type": "slide"
    }
   },
   "outputs": [],
   "source": [
    "# Standardize input data before Adaline\n",
    "X_std = np.copy(X)\n",
    "X_std[:, 0] = (X[:, 0] - X[:, 0].mean()) / X[:, 0].std()\n",
    "X_std[:, 1] = (X[:, 1] - X[:, 1].mean()) / X[:, 1].std()"
   ]
  },
  {
   "cell_type": "code",
   "execution_count": 7,
   "metadata": {
    "slideshow": {
     "slide_type": "fragment"
    }
   },
   "outputs": [
    {
     "ename": "ModuleNotFoundError",
     "evalue": "No module named 'mlxtend'",
     "output_type": "error",
     "traceback": [
      "\u001b[1;31m---------------------------------------------------------------------------\u001b[0m",
      "\u001b[1;31mModuleNotFoundError\u001b[0m                       Traceback (most recent call last)",
      "Cell \u001b[1;32mIn[7], line 1\u001b[0m\n\u001b[1;32m----> 1\u001b[0m \u001b[38;5;28;01mfrom\u001b[39;00m\u001b[38;5;250m \u001b[39m\u001b[38;5;21;01mmlxtend\u001b[39;00m\u001b[38;5;21;01m.\u001b[39;00m\u001b[38;5;21;01mplotting\u001b[39;00m\u001b[38;5;250m \u001b[39m\u001b[38;5;28;01mimport\u001b[39;00m plot_decision_regions\n\u001b[0;32m      2\u001b[0m ada \u001b[38;5;241m=\u001b[39m AdalineGD(n_iter\u001b[38;5;241m=\u001b[39m\u001b[38;5;241m15\u001b[39m, eta\u001b[38;5;241m=\u001b[39m\u001b[38;5;241m0.01\u001b[39m)\n\u001b[0;32m      3\u001b[0m ada\u001b[38;5;241m.\u001b[39mfit(X_std, y)\n",
      "\u001b[1;31mModuleNotFoundError\u001b[0m: No module named 'mlxtend'"
     ]
    }
   ],
   "source": [
    "from mlxtend.plotting import plot_decision_regions\n",
    "ada = AdalineGD(n_iter=15, eta=0.01)\n",
    "ada.fit(X_std, y)\n",
    "plot_decision_regions(X_std, y, clf=ada, legend=2)\n",
    "plt.xlabel('sepal length [cm]')\n",
    "plt.ylabel('petal length [cm]')\n",
    "plt.title('Adaline on Iris')\n",
    "plt.show()"
   ]
  },
  {
   "cell_type": "code",
   "execution_count": 8,
   "metadata": {
    "slideshow": {
     "slide_type": "slide"
    }
   },
   "outputs": [
    {
     "ename": "NameError",
     "evalue": "name 'ada' is not defined",
     "output_type": "error",
     "traceback": [
      "\u001b[1;31m---------------------------------------------------------------------------\u001b[0m",
      "\u001b[1;31mNameError\u001b[0m                                 Traceback (most recent call last)",
      "Cell \u001b[1;32mIn[8], line 3\u001b[0m\n\u001b[0;32m      1\u001b[0m \u001b[38;5;66;03m# Plotting the values of the cost function\u001b[39;00m\n\u001b[0;32m      2\u001b[0m fig \u001b[38;5;241m=\u001b[39m plt\u001b[38;5;241m.\u001b[39mfigure()\n\u001b[1;32m----> 3\u001b[0m plt\u001b[38;5;241m.\u001b[39mplot(\u001b[43mada\u001b[49m\u001b[38;5;241m.\u001b[39mcost_)\n\u001b[0;32m      4\u001b[0m plt\u001b[38;5;241m.\u001b[39mxlabel(\u001b[38;5;124m'\u001b[39m\u001b[38;5;124mEpoch\u001b[39m\u001b[38;5;124m'\u001b[39m)\n\u001b[0;32m      5\u001b[0m plt\u001b[38;5;241m.\u001b[39mylabel(\u001b[38;5;124m'\u001b[39m\u001b[38;5;124mCost\u001b[39m\u001b[38;5;124m'\u001b[39m)\n",
      "\u001b[1;31mNameError\u001b[0m: name 'ada' is not defined"
     ]
    },
    {
     "data": {
      "text/plain": [
       "<Figure size 640x480 with 0 Axes>"
      ]
     },
     "metadata": {},
     "output_type": "display_data"
    }
   ],
   "source": [
    "# Plotting the values of the cost function\n",
    "fig = plt.figure()\n",
    "plt.plot(ada.cost_)\n",
    "plt.xlabel('Epoch')\n",
    "plt.ylabel('Cost')\n",
    "plt.ylim([0,60])\n",
    "plt.show()"
   ]
  },
  {
   "cell_type": "code",
   "execution_count": 9,
   "metadata": {
    "slideshow": {
     "slide_type": "slide"
    }
   },
   "outputs": [
    {
     "data": {
      "text/plain": [
       "[array([0.73258132, 0.97496049]),\n",
       " array([-0.06382416,  0.37479879]),\n",
       " array([0.42378193, 1.02184467]),\n",
       " array([-0.10191557,  0.62568527]),\n",
       " array([0.21994724, 1.05279234]),\n",
       " array([-0.12705925,  0.79129237]),\n",
       " array([0.08539845, 1.07322051]),\n",
       " array([-0.14365628,  0.90060759]),\n",
       " array([-0.00341556,  1.0867049 ]),\n",
       " array([-0.15461178,  0.97276523]),\n",
       " array([-0.06204059,  1.09560579]),\n",
       " array([-0.16184337,  1.0203956 ]),\n",
       " array([-0.10073826,  1.10148115]),\n",
       " array([-0.16661685,  1.05183582]),\n",
       " array([-0.12628212,  1.1053594 ])]"
      ]
     },
     "execution_count": 9,
     "metadata": {},
     "output_type": "execute_result"
    }
   ],
   "source": [
    "# If you have stored the w sequence\n",
    "ada.W_"
   ]
  },
  {
   "cell_type": "markdown",
   "metadata": {
    "slideshow": {
     "slide_type": "slide"
    }
   },
   "source": [
    "### Optimisation\n",
    "- Gradient descent\n",
    "- Stochastic gradient descent (SGD)\n",
    "    - Online learning (random, single sample update)\n",
    "    - Mini-batch learning (random subset update)"
   ]
  },
  {
   "cell_type": "markdown",
   "metadata": {
    "slideshow": {
     "slide_type": "slide"
    }
   },
   "source": [
    "### SGD of $f(x) = x^2$"
   ]
  },
  {
   "cell_type": "code",
   "execution_count": 10,
   "metadata": {
    "slideshow": {
     "slide_type": "-"
    }
   },
   "outputs": [],
   "source": [
    "import numpy.random as npr\n",
    "import numpy as np\n",
    "\n",
    "def func(x):\n",
    "    return x**2\n",
    "\n",
    "# n_sample=50, eta=0.1 is beautiful\n",
    "# n_sample=20, eta=0.01 struggles\n",
    "def SGD_Sequence_1D(function=func, start=1.0, n_sample=50, eta=0.1, n_updates=20):\n",
    "    sequence = np.zeros([n_updates,1])\n",
    "    values   = np.zeros([n_updates,2])\n",
    "    current  = start\n",
    "    for i in range(n_updates):\n",
    "        # New mini-batch\n",
    "        x = (np.sort(npr.random(n_sample)-0.5)*2) * (abs(start)*2)\n",
    "        \n",
    "        # Function values of mini-batch\n",
    "        y = function(x)\n",
    "        \n",
    "        # Add to sequence\n",
    "        ind = (np.abs(x - current)).argmin()\n",
    "        sequence[i] = current\n",
    "        values[i,:] = [x[ind], y[ind]]\n",
    "\n",
    "        # Find descrete derivative closest to current\n",
    "        gr = np.gradient(y, x)\n",
    "\n",
    "        # Update current\n",
    "        current = current - eta*gr[ind]\n",
    "    \n",
    "    return(sequence, values)"
   ]
  },
  {
   "cell_type": "code",
   "execution_count": 11,
   "metadata": {
    "lines_to_next_cell": 2,
    "slideshow": {
     "slide_type": "slide"
    }
   },
   "outputs": [
    {
     "data": {
      "application/vnd.jupyter.widget-view+json": {
       "model_id": "6c7f37a8ccaa49fb83375bd8c74983f5",
       "version_major": 2,
       "version_minor": 0
      },
      "text/plain": [
       "interactive(children=(IntSlider(value=2, description='n_updates', max=50, min=2), Output()), _dom_classes=('wi…"
      ]
     },
     "metadata": {},
     "output_type": "display_data"
    },
    {
     "data": {
      "text/plain": [
       "<function __main__.SGD_plot(n_updates=10)>"
      ]
     },
     "execution_count": 11,
     "metadata": {},
     "output_type": "execute_result"
    }
   ],
   "source": [
    "import matplotlib.pyplot as plt\n",
    "from matplotlib.collections import LineCollection\n",
    "\n",
    "def SGD_plot(n_updates=10):\n",
    "    npr.seed(1)\n",
    "    seq, val = SGD_Sequence_1D(n_updates=n_updates)\n",
    "\n",
    "    points = val.reshape(-1,1,2)\n",
    "    segments = np.concatenate([points[:-1], points[1:]], axis=1)\n",
    "    cols = np.arange(n_updates*1.0)\n",
    "\n",
    "    fig, axs = plt.subplots()\n",
    "    norm = plt.Normalize(cols.min(), cols.max())\n",
    "    lc = LineCollection(segments, cmap='viridis', norm=norm)\n",
    "    lc.set_array(cols)\n",
    "    lc.set_linewidth(2)\n",
    "    line = axs.add_collection(lc)\n",
    "    fig.colorbar(line, ax=axs)\n",
    "    axs.set_xlim(-1.2, 1.2)\n",
    "    axs.set_ylim(0, 1.2)\n",
    "    plt.show()\n",
    "\n",
    "from ipywidgets import interact\n",
    "import ipywidgets as widgets\n",
    "interact(SGD_plot, n_updates=widgets.IntSlider(min=2, max=50, step=1, value=2))"
   ]
  },
  {
   "cell_type": "markdown",
   "metadata": {
    "slideshow": {
     "slide_type": "slide"
    }
   },
   "source": [
    "## Introducing the multi-layer neural network architecture\n",
    "First out: the Multilayer Perceptron (MLP)\n",
    "- Fully connected network\n"
   ]
  },
  {
   "cell_type": "markdown",
   "metadata": {
    "slideshow": {
     "slide_type": "slide"
    }
   },
   "source": [
    "<img src=\"./images/12_02.png\" alt=\"Multilayer Percetron\" style=\"width: 600px;\"/>  \n",
    "- $x_i^{(in)}$ = the $i$th  input feature value\n",
    "- $a_i^{(in)}$ =  the $i$th  unit in the input layer. \n",
    "- $a_i^{(h)}$ =  the $i$th  unit in the hidden layer. \n",
    "- $a_i^{(out)}$ =  the $i$th  unit in the output layer. \n",
    "- $a_i^{(l)}$ = the activation unit $i$ in $l$-th layer. \n",
    "- $w_{i,j}^{(l)}$ = weight connecting unit $i$ in $l-1$-th layer with unit $j$ in $l$-th layer. These will be grouped into a matrix $W^{(l)}$ later. \n",
    "- $i=0$ are bias units (constant/intercept).  \n",
    "More than one hidden layer => **deep artificial neural network**."
   ]
  },
  {
   "cell_type": "markdown",
   "metadata": {
    "slideshow": {
     "slide_type": "slide"
    }
   },
   "source": [
    "### First layer activation\n",
    "$a^{(in)} = \\begin{bmatrix}a^{(in)}_0 \\\\ a^{(in)}_1 \\\\ \\vdots \\\\ a^{(in)}_m\\end{bmatrix} = \\begin{bmatrix}1 \\\\ x^{(in)}_1 \\\\ \\vdots \\\\ x^{(in)}_m\\end{bmatrix}$,  \n",
    "  \n",
    "i.e. the input and an intercept.  \n",
    "The bias units of all layers are grouped together as a separate vector later."
   ]
  },
  {
   "cell_type": "markdown",
   "metadata": {
    "slideshow": {
     "slide_type": "slide"
    }
   },
   "source": [
    "### Adding layers\n",
    "- More layers give higher flexibility\n",
    "    - Weight matrices, $W^{(l)}$, will have dimension $m \\times d$, where $m$ is the number of units in the previous layer (including the bias) and $d$ is the number of units in the $l$-th layer.\n",
    "- Increases possibility of over-fitting\n",
    "- Increases number of parameters to estimate (good and bad)\n",
    "- Error gradients increasingly small\n",
    "    - Deep learning tools/tricks to overcome this later"
   ]
  },
  {
   "cell_type": "markdown",
   "metadata": {
    "slideshow": {
     "slide_type": "slide"
    }
   },
   "source": [
    "### Multiclass classification\n",
    "- Multiple output units\n",
    "- Corresponds to one-hot encoding\n",
    "- Typically a soft-max function on the output:\n",
    "  - Class probabilities"
   ]
  },
  {
   "cell_type": "markdown",
   "metadata": {
    "slideshow": {
     "slide_type": "slide"
    }
   },
   "source": [
    "## Activating a neural network via forward propagation\n",
    "  \n",
    "Three main steps of fitting an MLP:\n",
    "1. Forward propagate patterns of the training data from input to output.\n",
    "2. Calculate error based on a cost function.\n",
    "3. Backpropagate the error through derivatives with respect to each weight and update the model.  \n",
    "\n",
    "Repeat for several epochs."
   ]
  },
  {
   "cell_type": "markdown",
   "metadata": {
    "slideshow": {
     "slide_type": "slide"
    }
   },
   "source": [
    "### 1. Forward propagation\n",
    "Calculation of the first actiavation unit in the (first) hidden layer:  \n",
    "  \n",
    "$$z_1^{(h)} = a_0^{(in)} w_{0,1}^{(h)} + a_1^{(in)} w_{1,1}^{(h)} + \\dots + a_m^{(in)} w_{m,1}^{(h)}$$  \n",
    "$$a_1^{(h)} = \\phi(z_1^{(h)})$$  \n",
    "  \n",
    "$\\phi(\\cdot)$ is the activation function, differentiable, often non-linear."
   ]
  },
  {
   "cell_type": "markdown",
   "metadata": {
    "slideshow": {
     "slide_type": "slide"
    }
   },
   "source": [
    "### Activation function examples\n",
    "The basic sigmoid transforms unbounded inputs $z$ to the range $(0,1)$:\n",
    "<img src=\"./images/12_04.png\" alt=\"Sigmoid activation\" style=\"width: 500px;\"/>  \n",
    "  \n",
    "Rectified Linear Units - ReLU (and its siblings) have taken over as the default activiation function in many applications due to their simplicity and beneficial properties."
   ]
  },
  {
   "cell_type": "markdown",
   "metadata": {
    "slideshow": {
     "slide_type": "slide"
    }
   },
   "source": [
    "## Compact notation\n",
    "For easier readability and more efficient calculations we change from sum-notation to matrix notation. Collect all activation units of layer $l-1$ and all weights for the transition to layer $l$ into matrices:  \n",
    "$$\\bf{Z}^\\it{(l)} = \\bf{A}^\\it{(l-1)} \\bf{W}^\\it{(l)}$$\n",
    "  \n",
    "$$\\bf{A}^\\it{(l)} = \\phi \\left(\\bf{Z}^\\it{(l)} \\right)$$\n",
    "\n"
   ]
  },
  {
   "cell_type": "markdown",
   "metadata": {
    "slideshow": {
     "slide_type": "slide"
    }
   },
   "source": [
    "# Training an artificial neural network"
   ]
  },
  {
   "cell_type": "markdown",
   "metadata": {
    "slideshow": {
     "slide_type": "-"
    }
   },
   "source": [
    "We will go deeper into:  \n",
    "- The cost function\n",
    "- Backpropagation\n",
    "- Convergence"
   ]
  },
  {
   "cell_type": "markdown",
   "metadata": {
    "slideshow": {
     "slide_type": "slide"
    }
   },
   "source": [
    "## Computing the logistic cost function\n",
    "The implementation used the same logistic cost functions as Chapter 3 as a basis:\n",
    "$$\\it{J} (w) = -\\sum_{i=1}^{n} y^{[i]} log(a^{[i]}) + \\left( 1-y^{[i]}\\right) log(1-a^{[i]})$$\n",
    "  \n",
    "... where $a^{[i]}$ is output of a node for sample [i] in the output layer:\n",
    "$$a^{[i]} = \\phi(z^{[i]})$$"
   ]
  },
  {
   "cell_type": "code",
   "execution_count": 12,
   "metadata": {
    "slideshow": {
     "slide_type": "fragment"
    }
   },
   "outputs": [
    {
     "data": {
      "image/png": "[encoded data removed]",
      "text/plain": [
       "<Figure size 640x480 with 1 Axes>"
      ]
     },
     "metadata": {},
     "output_type": "display_data"
    }
   ],
   "source": [
    "# Activations\n",
    "a = np.array([0.00001, 0.001, 0.01, 0.1, 0.5, 0.9, 0.99, 0.999, 0.99999])\n",
    "plt.plot(a, 1*np.log(a))\n",
    "plt.title('True positive')\n",
    "plt.xlabel('activation')\n",
    "plt.ylabel('cost (left-hand side)')\n",
    "plt.show()"
   ]
  },
  {
   "cell_type": "markdown",
   "metadata": {
    "slideshow": {
     "slide_type": "slide"
    }
   },
   "source": [
    "### Proceed to explore the foundational concepts in the 'ANN_From_Scratch.pdf' document. "
   ]
  },
  {
   "cell_type": "markdown",
   "metadata": {
    "slideshow": {
     "slide_type": "slide"
    }
   },
   "source": [
    "### L2 penalization\n",
    "$$L2 = \\lambda ||w||^2_2 = \\lambda \\sum_{j=1}^m w^2_j,$$\n",
    "  \n",
    "regularizes all weights except the bias units for the node. "
   ]
  },
  {
   "cell_type": "markdown",
   "metadata": {
    "slideshow": {
     "slide_type": "fragment"
    }
   },
   "source": [
    "Adding this to the cost results in:\n",
    "  \n",
    "$$\\it{J} (w) = -\\left[ \\sum_{i=1}^{n} y^{[i]} log(a^{[i]}) + \\left( 1-y^{[i]}\\right) log(1-a^{[i]}) \\right] + \\frac{\\lambda}{2} ||w||^2_2$$"
   ]
  },
  {
   "cell_type": "markdown",
   "metadata": {
    "slideshow": {
     "slide_type": "slide"
    }
   },
   "source": [
    "### Cost function for all samples and nodes\n",
    "$$\\it{J} (w) = -\\sum_{i=1}^{n}\\sum_{j=1}^{t} y_j^{[i]} log(a_j^{[i]}) + \\left( 1-y_j^{[i]}\\right) log(1-a_j^{[i]})$$"
   ]
  },
  {
   "cell_type": "markdown",
   "metadata": {
    "slideshow": {
     "slide_type": "fragment"
    }
   },
   "source": [
    "Adding the L2 norm penalization finally yields:  \n",
    "  \n",
    "$$\\it{J} (w) = -\\left[ \\sum_{i=1}^{n}\\sum_{j=1}^{t} y_j^{[i]} log(a_j^{[i]}) + \\left( 1-y_j^{[i]}\\right) log(1-a_j^{[i]}) \\right] + \\frac{\\lambda}{2} \\sum_{l=1}^{L-1}\\sum_{i=1}^{u_l}\\sum_{j=1}^{u_{l+1}}\\left(w_{j,i}^{(l)}\\right)^2$$\n",
    "($u_l$ is the number of units in a layer)"
   ]
  },
  {
   "cell_type": "code",
   "execution_count": 13,
   "metadata": {
    "slideshow": {
     "slide_type": "slide"
    }
   },
   "outputs": [],
   "source": [
    "def _compute_cost(self, y_enc, output): # where y_enc = y and output = a\n",
    "    L2_term = (self.l2 *\n",
    "               (np.sum(self.w_h ** 2.) +\n",
    "                np.sum(self.w_out ** 2.)))\n",
    "\n",
    "    term1 = -y_enc * (np.log(output))\n",
    "    term2 = (1. - y_enc) * np.log(1. - output)\n",
    "    cost = np.sum(term1 - term2) + L2_term\n",
    "    return cost"
   ]
  },
  {
   "cell_type": "markdown",
   "metadata": {
    "slideshow": {
     "slide_type": "slide"
    }
   },
   "source": [
    "### One-hot encoding representation\n",
    "The activation of the third layer and the target class for __a particular__ sample may look like this:\n",
    "$$a^{(out)} = \\begin{bmatrix}0.1 \\\\ 0.9 \\\\ \\vdots \\\\ 0.3\\end{bmatrix}, y = \\begin{bmatrix}0 \\\\ 1 \\\\ \\vdots \\\\ 0\\end{bmatrix}$$"
   ]
  },
  {
   "cell_type": "code",
   "execution_count": 14,
   "metadata": {
    "slideshow": {
     "slide_type": "fragment"
    }
   },
   "outputs": [],
   "source": [
    "def predict(self, X):\n",
    "    z_h, a_h, z_out, a_out = self._forward(X)\n",
    "    y_pred = np.argmax(z_out, axis=1) # argmax on z_out and a_out is equivalent\n",
    "    return y_pred"
   ]
  },
  {
   "cell_type": "markdown",
   "metadata": {
    "slideshow": {
     "slide_type": "slide"
    }
   },
   "source": [
    "### Cost minimization\n",
    "... will be performed using the partial derivative of the parameters of $W$ with respect to each weight for every layer:\n",
    "$$\\frac{\\partial}{\\partial w_{j,i}^{(l)}}J(W)$$"
   ]
  },
  {
   "cell_type": "markdown",
   "metadata": {
    "slideshow": {
     "slide_type": "slide"
    }
   },
   "source": [
    "## Developing your intuition for backpropagation\n",
    "- Backpropagation is still one of the most popular algorithms to train ANNs\n",
    "- Challenging with high dimensions and non-convex cost function (local minima)\n",
    "- Main building block: \"The chain rule\"\n",
    "    - Derivative of a nested function\n",
    "$$\\frac{d}{dx}[f(g(x))] = \\frac{df}{dg}\\cdot\\frac{dg}{dx}$$"
   ]
  },
  {
   "cell_type": "markdown",
   "metadata": {
    "slideshow": {
     "slide_type": "fragment"
    }
   },
   "source": [
    "$$F(x) = f(g(h(u(v(x)))))$$\n",
    "  \n",
    "$$\\frac{dF}{dx} = \\frac{d}{dx}F(x) = \\frac{d}{dx}[f(g(h(u(v(x)))))] = \\frac{df}{dg}\\cdot\\frac{dg}{dh}\\cdot\\frac{dh}{du}\\cdot\\frac{du}{dv}\\cdot\\frac{dv}{dx}$$"
   ]
  },
  {
   "cell_type": "markdown",
   "metadata": {
    "slideshow": {
     "slide_type": "subslide"
    }
   },
   "source": [
    "The derivative of the sigmoid function:  \n",
    "\n",
    "$$\\phi'(z) = \\frac{\\partial}{\\partial z} \\left( \\frac{1}{1+e^{-z}} \\right) = \\frac{1}{1+e^{-z}} - \\left( \\frac{1}{1+e^{-z}} \\right)^2$$  \n",
    "  \n",
    "$$= \\phi(z) - (\\phi(z))^2 = \\phi(z)(1-\\phi(z)) = a(1-a)$$\n",
    "\n",
    "Proof: https://towardsdatascience.com/derivative-of-the-sigmoid-function-536880cf918e"
   ]
  },
  {
   "cell_type": "markdown",
   "metadata": {
    "slideshow": {
     "slide_type": "slide"
    }
   },
   "source": [
    "### Deriving everything by hand\n",
    "- ... is something we can avoid\n",
    "- Automatic differentiation\n",
    "    - Simple function derivatives can be coded as matrices\n",
    "    - Starting from the left would yields a number of matrix products times a vector (forward mode)\n",
    "    - Starting from the right all products are of the form matrix times vector (reverse mode)\n",
    "        - Dimension collapse => high speed"
   ]
  },
  {
   "cell_type": "markdown",
   "metadata": {
    "slideshow": {
     "slide_type": "slide"
    }
   },
   "source": [
    "### Proceed to explore Computational Graph concept 'Computational_Graph.pdf' document. "
   ]
  },
  {
   "cell_type": "markdown",
   "metadata": {
    "slideshow": {
     "slide_type": "slide"
    }
   },
   "source": [
    "## Training neural networks via backpropagation\n",
    "Let's assume that the loss is the Mean Squared Error, which involves averaging the activation units within our network, in addition to averaging over the n training examples\n",
    "$$\\it{L} (w,b) = \\frac{1}{n}\\sum_{i=1}^{n}\\frac{1}{t}\\sum_{j=1}^{t} (y_j^{[i]} - a_j^{(out)[i]})^{2}$$"
   ]
  },
  {
   "cell_type": "markdown",
   "metadata": {
    "slideshow": {
     "slide_type": "slide"
    }
   },
   "source": [
    "## Training neural networks via backpropagation\n",
    "Forward-propagation of input features through:   \n",
    "<img src=\"./images/BB1.png\" alt=\"Feed forward\" style=\"width: 800px;\"/>  "
   ]
  },
  {
   "cell_type": "markdown",
   "metadata": {
    "slideshow": {
     "slide_type": "slide"
    }
   },
   "source": [
    "## Training neural networks via backpropagation\n",
    "### The derivative of the loss $L$ w.r.t. $w_{1,1}^{(out)}$\n",
    "<img src=\"./images/BB3__.png\" alt=\"Feed forward\" style=\"width: 800px;\"/> "
   ]
  },
  {
   "cell_type": "markdown",
   "metadata": {
    "slideshow": {
     "slide_type": "slide"
    }
   },
   "source": [
    "## Training neural networks via backpropagation\n",
    "### The derivative of the first term\n",
    "<img src=\"./images/BB3___.png\" alt=\"Feed forward\" style=\"width: 800px;\"/> "
   ]
  },
  {
   "cell_type": "markdown",
   "metadata": {
    "slideshow": {
     "slide_type": "slide"
    }
   },
   "source": [
    "## Training neural networks via backpropagation\n",
    "### The derivative of the second term\n",
    "<img src=\"./images/BB4_.png\" alt=\"Feed forward\" style=\"width: 800px;\"/> "
   ]
  },
  {
   "cell_type": "markdown",
   "metadata": {
    "slideshow": {
     "slide_type": "slide"
    }
   },
   "source": [
    "## Training neural networks via backpropagation\n",
    "### The derivative of the third term\n",
    "<img src=\"./images/BB5_.png\" alt=\"Feed forward\" style=\"width: 800px;\"/> "
   ]
  },
  {
   "cell_type": "markdown",
   "metadata": {
    "slideshow": {
     "slide_type": "slide"
    }
   },
   "source": [
    "## Training neural networks via backpropagation\n",
    "### Putting all together\n",
    "<img src=\"./images/BB6_.png\" alt=\"Feed forward\" style=\"width: 800px;\"/> "
   ]
  },
  {
   "cell_type": "markdown",
   "metadata": {
    "slideshow": {
     "slide_type": "slide"
    }
   },
   "source": [
    "## Training neural networks via backpropagation\n",
    "### The derivative of the loss $L$ w.r.t. $w_{1,1}^{(h)}$\n",
    "<img src=\"./images/BB7.png\" alt=\"Feed forward\" style=\"width: 800px;\"/> "
   ]
  },
  {
   "cell_type": "markdown",
   "metadata": {
    "slideshow": {
     "slide_type": "slide"
    }
   },
   "source": [
    "## Training neural networks via backpropagation\n",
    "- Gradients represent how much a small change in a parameter (such as a weight) affects the output of a function (such as the loss function). how much a small change in a parameter (such as a weight) \n",
    "- When you calculate the gradient during backpropagation, it involves multiplying the error (a measure of how far the network's prediction is from the actual target) by the weights. This multiplication represents how much the weights contributed to the error in the output."
   ]
  },
  {
   "cell_type": "markdown",
   "metadata": {
    "slideshow": {
     "slide_type": "slide"
    }
   },
   "source": [
    "### Weight update\n",
    "$$W^{(l)}:=W^{(l)} - \\eta \\Delta^{(l)}$$  \n",
    "  \n",
    "A small step in the opposite direction of the gradient (for each layer in the network)."
   ]
  },
  {
   "cell_type": "markdown",
   "metadata": {
    "slideshow": {
     "slide_type": "slide"
    }
   },
   "source": [
    "# Convergence in neural networks\n",
    "- Gradient descent with mini-batch instead of stochastic gradient descent (Ch. 2, p.47)\n",
    "    - Efficient vectorized code\n",
    "    - Like a \"meningsmåling ved valg\" / election poll\n",
    "    - Still stochastic, hopefully jumping out of local minima\n",
    "- Learning rate: fixed rate $\\eta$\n",
    "    - Deep Learning brings adaptive learning rate, learning rate with decay, learning rate with restarts, ..."
   ]
  },
  {
   "cell_type": "markdown",
   "metadata": {
    "slideshow": {
     "slide_type": "slide"
    }
   },
   "source": [
    "<img src=\"./images/12_13.png\" alt=\"Convergence\" style=\"width: 500px;\"/>  "
   ]
  },
  {
   "cell_type": "markdown",
   "metadata": {
    "slideshow": {
     "slide_type": "slide"
    }
   },
   "source": [
    "# Summary\n",
    "- Visit: https://playground.tensorflow.org/\n",
    "- Expanded perceptron to multilayer perceptron\n",
    "    - Varying numbers of units (input, hidden, hidden, ..., output)\n",
    "    - SGD -> mini-batch\n",
    "    - Forward propagation of features\n",
    "    - Backpropagation of errors (chain rule)\n",
    "    - Developed the gradient of the cost function for all weights in the network\n",
    "- Non-exhaustive list of activation functions on page 469."
   ]
  }
 ],
 "metadata": {
  "anaconda-cloud": {},
  "celltoolbar": "Slideshow",
  "jupytext": {
   "cell_metadata_json": true,
   "encoding": "# -*- coding: utf-8 -*-",
   "formats": "ipynb,py"
  },
  "kernelspec": {
   "display_name": "Python (dat300-env)",
   "language": "python",
   "name": "dat300-env"
  },
  "language_info": {
   "codemirror_mode": {
    "name": "ipython",
    "version": 3
   },
   "file_extension": ".py",
   "mimetype": "text/x-python",
   "name": "python",
   "nbconvert_exporter": "python",
   "pygments_lexer": "ipython3",
   "version": "3.10.18"
  },
  "varInspector": {
   "cols": {
    "lenName": 16,
    "lenType": 16,
    "lenVar": 40
   },
   "kernels_config": {
    "python": {
     "delete_cmd_postfix": "",
     "delete_cmd_prefix": "del ",
     "library": "var_list.py",
     "varRefreshCmd": "print(var_dic_list())"
    },
    "r": {
     "delete_cmd_postfix": ") ",
     "delete_cmd_prefix": "rm(",
     "library": "var_list.r",
     "varRefreshCmd": "cat(var_dic_list()) "
    }
   },
   "types_to_exclude": [
    "module",
    "function",
    "builtin_function_or_method",
    "instance",
    "_Feature"
   ],
   "window_display": false
  }
 },
 "nbformat": 4,
 "nbformat_minor": 4
}
