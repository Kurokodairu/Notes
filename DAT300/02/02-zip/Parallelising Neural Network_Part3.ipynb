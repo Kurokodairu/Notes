{
 "cells": [
  {
   "cell_type": "markdown",
   "metadata": {
    "nbpresent": {
     "id": "8b0d1366-6552-473d-9e29-2a9b1f283b8e"
    },
    "slideshow": {
     "slide_type": "slide"
    }
   },
   "source": [
    "# Parallelising Neural Network Training with Keras"
   ]
  },
  {
   "cell_type": "markdown",
   "metadata": {
    "nbpresent": {
     "id": "7c91e9a7-bb8e-4e36-a43b-9e6010a5bbb1"
    },
    "slideshow": {
     "slide_type": "slide"
    }
   },
   "source": [
    "## Data representations for neural networks"
   ]
  },
  {
   "cell_type": "markdown",
   "metadata": {
    "nbpresent": {
     "id": "f8eee3fe-ea93-40ec-87cb-9eb5c9366818"
    }
   },
   "source": [
    "* Previous example used data stored in multidimensional Numpy arrays, also called **tensors**.\n",
    "* **All machine learning systems** use tensors as their basic data structure\n",
    "* Tensors are fundamental to the field of machine learning - TensorFlow was named after them\n"
   ]
  },
  {
   "cell_type": "markdown",
   "metadata": {
    "nbpresent": {
     "id": "a1740ba8-51b2-42bd-a359-cda3e52e5b2c"
    },
    "slideshow": {
     "slide_type": "fragment"
    }
   },
   "source": [
    "* What are tensors?\n",
    "    - tensors are *containers for data* (almost always numerical data)\n",
    "    - tensors are a *generalisation of matrices* to an *arbitrary* number of dimensions\n",
    "    - a *dimension* is often called an axis in the context of tensors"
   ]
  },
  {
   "cell_type": "markdown",
   "metadata": {
    "nbpresent": {
     "id": "50663c88-366d-42f7-9682-416c89ecc6ab"
    },
    "slideshow": {
     "slide_type": "slide"
    }
   },
   "source": [
    "### Vector data"
   ]
  },
  {
   "cell_type": "markdown",
   "metadata": {
    "nbpresent": {
     "id": "c3c7292b-72ea-4819-85f0-c4ad9868a127"
    }
   },
   "source": [
    "* This is the most common case\n",
    "* In such a dataset, each single data point can be encoded as a vector.\n",
    "* Thus a batch of data will be encoded as a 2D tensor (array of vectors)\n",
    "* 2D tensor: first axis is the *samples axis* and the second axis is the *features axis*."
   ]
  },
  {
   "cell_type": "markdown",
   "metadata": {
    "nbpresent": {
     "id": "3c3b3a07-b081-4242-aeff-719ac5f10779"
    },
    "slideshow": {
     "slide_type": "slide"
    }
   },
   "source": [
    "#### Vector data -  Example 1"
   ]
  },
  {
   "cell_type": "markdown",
   "metadata": {
    "nbpresent": {
     "id": "8435301b-e916-4f7d-9f06-db9e144a15db"
    }
   },
   "source": [
    "Actuarial dataset of people considering:\n",
    "* persons age\n",
    "* ZIP code\n",
    "* income\n",
    "\n",
    "Each person can be characterised as a vector of 3 values. A dataset of 100 000 people could be stored in a 2D tensor of shape `(100000, 3)`."
   ]
  },
  {
   "cell_type": "markdown",
   "metadata": {
    "nbpresent": {
     "id": "98a413df-6017-426c-8195-e42bc6960066"
    },
    "slideshow": {
     "slide_type": "slide"
    }
   },
   "source": [
    "#### Vector data -  Example 2"
   ]
  },
  {
   "cell_type": "markdown",
   "metadata": {
    "nbpresent": {
     "id": "e9c4367b-ab75-4e1d-917c-eeb97d1ce379"
    }
   },
   "source": [
    "A dataset of text documents, where each document is represented by counts of how many times each word appears in it (out of a dictionary of 20 000 common words).\n",
    "\n",
    "* Each document can be considered as a vector of 20 000 values\n",
    "\n",
    "If dataset consists of 500 documents, data could be stored in a 2D tensor of shape `(500, 20000)`"
   ]
  },
  {
   "cell_type": "markdown",
   "metadata": {
    "nbpresent": {
     "id": "d6aa12d3-f86f-4aed-85ba-b45b271e0ff9"
    },
    "slideshow": {
     "slide_type": "slide"
    }
   },
   "source": [
    "### Time series or sequence data"
   ]
  },
  {
   "cell_type": "markdown",
   "metadata": {
    "nbpresent": {
     "id": "56cf3bdb-8807-4a69-b91a-9bd3a4e28aee"
    }
   },
   "source": [
    "* Whenever time matters in your data (or the notion of sequence order), it makes sense to store it in a 3D tensor with an **explicit time axis**\n",
    "* Each sample can be encoded as a sequence of vectors (a 2D tensor)\n",
    "* Thus a batch of data will be encoded as a 3D tensor"
   ]
  },
  {
   "cell_type": "markdown",
   "metadata": {
    "nbpresent": {
     "id": "9a5c8ddf-f99e-4812-b84b-908dfa13158d"
    }
   },
   "source": [
    "<img src=\"./images/fig_2.3.png\" width=\"350\"/>"
   ]
  },
  {
   "cell_type": "markdown",
   "metadata": {
    "nbpresent": {
     "id": "c79c36f6-f25e-416b-a4c2-9959b450ec76"
    }
   },
   "source": [
    "[1] *F. Chollet*, Deep Learning with Python, chapter 2.2.10, Fig. 2.3. **A 3D timeseries data tensor**"
   ]
  },
  {
   "cell_type": "markdown",
   "metadata": {
    "nbpresent": {
     "id": "9f0d4d76-1b38-41dc-b649-ea678e106103"
    },
    "slideshow": {
     "slide_type": "slide"
    }
   },
   "source": [
    "#### Timeseries data -  Example"
   ]
  },
  {
   "cell_type": "markdown",
   "metadata": {
    "nbpresent": {
     "id": "167c6d03-7836-4ca0-adc7-3b63b0acadc9"
    }
   },
   "source": [
    "A dataset of stockprices:\n",
    "\n",
    "* record current price of stock\n",
    "* record highest price in past minute\n",
    "* record lowest price in past minute\n",
    "\n",
    "Given a total of 390 minutes in a trading day, the data of one trading day will be stored in a 2D tensor of shape `(390 x 3)`. If there are 250 days of trading in one year then the data may be stored in a 3D tensor of shape `(250, 390, 3)`. In this case each sample would be the data of one trading day. "
   ]
  },
  {
   "cell_type": "markdown",
   "metadata": {
    "nbpresent": {
     "id": "1b74754a-26c7-42b3-b03e-80c8870660bc"
    },
    "slideshow": {
     "slide_type": "slide"
    }
   },
   "source": [
    "#### Sequence data -  Example"
   ]
  },
  {
   "cell_type": "markdown",
   "metadata": {
    "nbpresent": {
     "id": "2831dfbb-a501-4567-a642-6cd3df6a7915"
    }
   },
   "source": [
    "A dataset of tweets:\n",
    "\n",
    "* encode each tweet as a sequence of 280 characters out of an alphabet of 128 unique characters\n",
    "* each character can be encoded as a binary vector of size 128 (an all-zeros vector except for a 1 entry at the index corresponding to the character)\n",
    "\n",
    "Each tweet can be encoded as a 2D tensor of shape `(280, 128)`. Hence, a dataset of 1 million tweets can be stored in a 3D tensor of shape `(1000000, 280, 128)`."
   ]
  },
  {
   "cell_type": "markdown",
   "metadata": {
    "nbpresent": {
     "id": "33207130-bf00-49d1-bbc6-19decbf10acf"
    },
    "slideshow": {
     "slide_type": "slide"
    }
   },
   "source": [
    "### Image data"
   ]
  },
  {
   "cell_type": "markdown",
   "metadata": {
    "nbpresent": {
     "id": "e8ba5365-53d6-43d6-b69a-25c04ef96f59"
    }
   },
   "source": [
    "* Images typically have three dimensions: height, width and colour depth\n",
    "* Although grayscale images (like our MNIST digits) have only a single color channel and could thus be stored in 2D tensors, by convention image tensors are always 3D, with a onedimensional color channel for grayscale images\n",
    "\n",
    "A batch of 128 grayscale images of size 256 × 256 could thus be stored in a tensor of shape `(128, 256, 256, 1)`. A\n",
    "batch of 128 color images could be stored in a tensor of shape `(128, 256, 256, 3)`."
   ]
  },
  {
   "cell_type": "markdown",
   "metadata": {
    "nbpresent": {
     "id": "686a5e30-6e1a-426e-8846-d8d613c6e283"
    },
    "slideshow": {
     "slide_type": "slide"
    }
   },
   "source": [
    "<img src=\"./images/fig_2.4.png\" width=\"400\"/>"
   ]
  },
  {
   "cell_type": "markdown",
   "metadata": {
    "nbpresent": {
     "id": "8d561117-d8c0-424f-acbd-22971b80bd6c"
    }
   },
   "source": [
    "[1] *F. Chollet*, Deep Learning with Python, chapter 2.2.11, Fig. 2.4. **A 4D image data tensor (channel-first convention)**"
   ]
  },
  {
   "cell_type": "markdown",
   "metadata": {
    "nbpresent": {
     "id": "306581a5-3681-422d-b927-114f977c0b0e"
    },
    "slideshow": {
     "slide_type": "slide"
    }
   },
   "source": [
    "**Two conventions** for shapes of image tensors:\n",
    "* *channel-last* convention as used by TensorFlow `(samples, height, width, color_depth)`\n",
    "* *channel-first* convention as used by Theano `(samples, color_depth, height, width)`\n",
    "* Either, TensorFlow or Theano, may be used as the engine for Keras"
   ]
  },
  {
   "cell_type": "markdown",
   "metadata": {
    "nbpresent": {
     "id": "32922d54-f09b-4685-9338-49c4ddc6a5d7"
    },
    "slideshow": {
     "slide_type": "slide"
    }
   },
   "source": [
    "### Video data"
   ]
  },
  {
   "cell_type": "markdown",
   "metadata": {
    "nbpresent": {
     "id": "5b64dd29-f187-46a8-829d-4b03149ca893"
    }
   },
   "source": [
    "* Video data is one of the few types of real-world data for which you’ll need 5D tensors\n",
    "* A video can be understood as a sequence of frames, each frame being a color image\n",
    "* Because each frame can be stored in a 3D tensor `(height, width, color_depth)`, a sequence of frames can be stored in a 4D tensor `(frames, height, width, color_depth)`\n",
    "* Thus a batch of **different videos** can be stored in a 5D tensor of shape `(samples, frames, height, width, color_depth)`"
   ]
  },
  {
   "cell_type": "markdown",
   "metadata": {
    "nbpresent": {
     "id": "ffdef7ad-ecbd-48e0-943a-4db221e2e056"
    },
    "slideshow": {
     "slide_type": "slide"
    }
   },
   "source": [
    "#### Video data - Example"
   ]
  },
  {
   "cell_type": "markdown",
   "metadata": {
    "nbpresent": {
     "id": "e287bf1b-68af-4a6e-939f-8b5665d35eb1"
    }
   },
   "source": [
    "Imagine you have a video with the following properties:\n",
    "\n",
    "* 60 second video\n",
    "* 144 x 256 (height, width)\n",
    "* 4 frames per second\n",
    "\n",
    "A batch of **four** such video clips would be stored in a tensor of shape `(4, 240, 144, 256, 3)`. That’s a total of 106 168 320 values! If the `dtype` of the tensor was `float32`, then each value would be stored in 32 bits, so the tensor would represent 405 MB, which is quite a lot. Videos in real life are much lighter, because they aren’t stored in `float32`, and they’re typically compressed by a large factor (such as in the MPEG format)."
   ]
  }
 ],
 "metadata": {
  "anaconda-cloud": {},
  "celltoolbar": "Slideshow",
  "jupytext": {
   "formats": "ipynb,py"
  },
  "kernelspec": {
   "display_name": "Python 3 (ipykernel)",
   "language": "python",
   "name": "python3"
  },
  "language_info": {
   "codemirror_mode": {
    "name": "ipython",
    "version": 3
   },
   "file_extension": ".py",
   "mimetype": "text/x-python",
   "name": "python",
   "nbconvert_exporter": "python",
   "pygments_lexer": "ipython3",
   "version": "3.10.18"
  },
  "nbpresent": {
   "slides": {
    "e1bcc92f-87ee-4cda-abb3-a53c55aa7d3b": {
     "id": "e1bcc92f-87ee-4cda-abb3-a53c55aa7d3b",
     "layout": "manual",
     "prev": null,
     "regions": {
      "20704684-44d7-4469-9fff-2966e85ae769": {
       "attrs": {
        "height": 0.8333333333333334,
        "pad": 0.01,
        "width": 0.8333333333333333,
        "x": 0.07091973498809348,
        "y": 0.09314162519826254
       },
       "id": "20704684-44d7-4469-9fff-2966e85ae769"
      },
      "8cdfe229-1ced-4a84-968c-11f4bdfb2807": {
       "attrs": {
        "height": 1,
        "pad": 0.01,
        "treemap:weight": 1,
        "width": 1,
        "x": 0,
        "y": 0
       },
       "id": "8cdfe229-1ced-4a84-968c-11f4bdfb2807"
      }
     }
    }
   },
   "themes": {}
  },
  "toc": {
   "base_numbering": 1,
   "nav_menu": {},
   "number_sections": true,
   "sideBar": true,
   "skip_h1_title": false,
   "title_cell": "Table of Contents",
   "title_sidebar": "Contents",
   "toc_cell": false,
   "toc_position": {},
   "toc_section_display": true,
   "toc_window_display": false
  },
  "varInspector": {
   "cols": {
    "lenName": 16,
    "lenType": 16,
    "lenVar": 40
   },
   "kernels_config": {
    "python": {
     "delete_cmd_postfix": "",
     "delete_cmd_prefix": "del ",
     "library": "var_list.py",
     "varRefreshCmd": "print(var_dic_list())"
    },
    "r": {
     "delete_cmd_postfix": ") ",
     "delete_cmd_prefix": "rm(",
     "library": "var_list.r",
     "varRefreshCmd": "cat(var_dic_list()) "
    }
   },
   "types_to_exclude": [
    "module",
    "function",
    "builtin_function_or_method",
    "instance",
    "_Feature"
   ],
   "window_display": false
  }
 },
 "nbformat": 4,
 "nbformat_minor": 4
}
