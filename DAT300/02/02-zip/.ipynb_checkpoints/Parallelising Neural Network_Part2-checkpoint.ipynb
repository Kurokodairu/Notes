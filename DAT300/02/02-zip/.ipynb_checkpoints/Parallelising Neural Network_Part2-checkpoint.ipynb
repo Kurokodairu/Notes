{
 "cells": [
  {
   "cell_type": "markdown",
   "metadata": {
    "nbpresent": {
     "id": "8b0d1366-6552-473d-9e29-2a9b1f283b8e"
    },
    "slideshow": {
     "slide_type": "slide"
    }
   },
   "source": [
    "# Parallelising Neural Network Training with Keras"
   ]
  },
  {
   "cell_type": "markdown",
   "metadata": {
    "nbpresent": {
     "id": "ae7b2481-86af-4893-9753-02475b283430"
    }
   },
   "source": [
    "<img src=\"./images/keras_tensorflow.jpg\" width=\"350\" />"
   ]
  },
  {
   "cell_type": "markdown",
   "metadata": {
    "nbpresent": {
     "id": "ace66a88-c671-483a-b49c-346b26ac7601"
    }
   },
   "source": [
    "**Note**: This notebook is adapted from chapter 13 in *Python Machine Learning* book, using Keras instead of TensorFlow. This notebook contains also (many) elements of book [*Deep Learning with Python*](https://www.manning.com/books/deep-learning-with-python), chapter 3 and 4. The Keras code is stored [here](https://github.com/fchollet/deep-learning-with-python-notebooks)."
   ]
  },
  {
   "cell_type": "markdown",
   "metadata": {
    "slideshow": {
     "slide_type": "slide"
    }
   },
   "source": [
    "## TensorFlow"
   ]
  },
  {
   "cell_type": "markdown",
   "metadata": {},
   "source": [
    "* TensorFlow is a Python-based, free, **open-source machine learning platform**, developed primarily by **Google**\n",
    "* Much like NumPy, the primary purpose of TensorFlow is to **enable engineers and researchers** to manipulate **mathematical expressions** over **numerical tensors**"
   ]
  },
  {
   "cell_type": "markdown",
   "metadata": {
    "slideshow": {
     "slide_type": "slide"
    }
   },
   "source": [
    "TensorFlow goes **far beyond** the scope of NumPy in the following ways\n",
    "* It can **automatically compute** the gradient of any differentiable expression, making it highly suitable for machine learning\n",
    "* It can run not only on **CPU**, but also on **GPUs** and **TPUs**, highly-parallel hardware accelerators\n",
    "* Computation defined in TensorFlow can be **easily distributed across many machines**\n",
    "* TensorFlow programs can be **exported to other runtimes**, such as \n",
    "    * C++, JavaScript (for browser-based applications), or \n",
    "    * TFLite (for applications running on mobile devices or embedded devices), etc. \n",
    "* This makes TensorFlow applications **easy to deploy** in practical settings."
   ]
  },
  {
   "cell_type": "markdown",
   "metadata": {
    "nbpresent": {
     "id": "91436083-c317-4bd4-ac12-e280a2298e95"
    },
    "slideshow": {
     "slide_type": "slide"
    }
   },
   "source": [
    "## Keras"
   ]
  },
  {
   "cell_type": "markdown",
   "metadata": {},
   "source": [
    "* Keras is a deep-learning API for Python, built **on top of** TensorFlow\n",
    "* Provides a **convenient** way to define and train any kind of deep-learning model\n",
    "* Initially developed for research, with the aim of enabling **fast deep learning experimentation**"
   ]
  },
  {
   "cell_type": "markdown",
   "metadata": {
    "slideshow": {
     "slide_type": "slide"
    }
   },
   "source": [
    "<img src=\"./images/fig_3.1.png\" />"
   ]
  },
  {
   "cell_type": "markdown",
   "metadata": {},
   "source": [
    "[1] *F. Chollet*, Deep Learning with Python, 2nd Ed., chapter 3.1, Fig. 3.1.\n",
    "\n",
    "Keras and TensorFlow: TensorFlow is a low-level tensor computing platform, Keras is a high-level deep learning API."
   ]
  },
  {
   "cell_type": "markdown",
   "metadata": {
    "nbpresent": {
     "id": "bd4a1fe5-bba1-4c90-b406-d17801ea6257"
    },
    "slideshow": {
     "slide_type": "slide"
    }
   },
   "source": [
    "**Run Keras**\n",
    "\n",
    "* **locally** (on CPUs on your own PC; on GPU on your own gaming PC): \n",
    "    - It is likely that your laptop doesn't have a graphical processing unit (GPU) suitable for use deep learning computations.\n",
    "    - This will result in longer training times for your model using only CPUs, but may be the only feasable option if you need to work offline.\n",
    "\n",
    "\n",
    "* **in the cloud** using [Google Colaboratory](https://colab.research.google.com/notebooks/welcome.ipynb) or [Kaggle](https://www.kaggle.com/notebooks) \n",
    "     - This requires internet connection and a Google / Kaggle account. \n",
    "     - You will have access to an outdated GPU "
   ]
  },
  {
   "cell_type": "markdown",
   "metadata": {
    "slideshow": {
     "slide_type": "slide"
    }
   },
   "source": [
    "## Other deep learning libraries"
   ]
  },
  {
   "cell_type": "markdown",
   "metadata": {},
   "source": [
    "* [PyTorch](https://pytorch.org/) (by Facebook)\n",
    "* [Caffe](http://caffe.berkeleyvision.org/)\n",
    "* ... and many more\n",
    "* [Overview on Wiki](https://en.wikipedia.org/wiki/Comparison_of_deep-learning_software)"
   ]
  },
  {
   "cell_type": "markdown",
   "metadata": {
    "nbpresent": {
     "id": "1970300c-a616-41de-ba29-ca3bb2b83b82"
    },
    "slideshow": {
     "slide_type": "slide"
    }
   },
   "source": [
    "## Introduction to Keras"
   ]
  },
  {
   "cell_type": "markdown",
   "metadata": {
    "nbpresent": {
     "id": "f808aaaa-cb10-4f61-9b98-2a3eb179dddd"
    }
   },
   "source": [
    " training a neural network revolves around the following objects:\n",
    "\n",
    "1. **Layers**, which are combined into a network (or model)\n",
    "2. The **input data** and **corresponding targets**\n",
    "3. The **loss function**, which defines the feedback signal used for learning\n",
    "4. The **optimizer**, which determines how learning proceeds"
   ]
  },
  {
   "cell_type": "markdown",
   "metadata": {
    "nbpresent": {
     "id": "022709f7-59a6-4e48-a210-43c28a4c8ce9"
    },
    "slideshow": {
     "slide_type": "slide"
    }
   },
   "source": [
    "<img src=\"./images/ANN.png\" width=\"500\"/>"
   ]
  },
  {
   "cell_type": "markdown",
   "metadata": {
    "nbpresent": {
     "id": "d23127c7-063e-4732-b1f0-ae0d6c022393"
    }
   },
   "source": [
    "[1] *F. Chollet*, Deep Learning with Python, chapter 3.1, Fig. 3.1. **Relationship between the network, layers, loss function and optimiser.**"
   ]
  },
  {
   "cell_type": "markdown",
   "metadata": {
    "slideshow": {
     "slide_type": "slide"
    }
   },
   "source": [
    "#### Layers: the building blocks of deep learning"
   ]
  },
  {
   "cell_type": "markdown",
   "metadata": {},
   "source": [
    "* Layers are a fundamental data structure in neural networks\n",
    "* A layer is a data-processing module that takes as input one or more tensors and that outputs one or more tensors\n",
    "* The layer’s **weights** contain the network’s **knowledge**"
   ]
  },
  {
   "cell_type": "markdown",
   "metadata": {
    "slideshow": {
     "slide_type": "slide"
    }
   },
   "source": [
    "##### Types of layers"
   ]
  },
  {
   "cell_type": "markdown",
   "metadata": {
    "slideshow": {
     "slide_type": "-"
    }
   },
   "source": [
    "### Common Layer Types\n",
    "\n",
    "1. **Dense (Fully Connected)** – for vector data (`(samples, features)`).\n",
    "2. **Recurrent (LSTM, GRU, SimpleRNN)** – for sequence data (`(samples, timesteps, features)`).\n",
    "3. **Convolutional (Conv2D, Conv3D)** – for image/video data (`(samples, height, width, channels)`).\n",
    "4. **Pooling (MaxPooling, AvgPooling)** – for downsampling.\n",
    "5. **Flatten & Reshape** – for shape transformations.\n",
    "6. **Dropout / Regularization** – to reduce overfitting.\n",
    "7. **Embedding** – for text / categorical encoding.\n",
    "8. **Custom Layers** – user-defined.\n"
   ]
  },
  {
   "cell_type": "markdown",
   "metadata": {
    "slideshow": {
     "slide_type": "slide"
    }
   },
   "source": [
    "### Sequential vs Functional API in Keras\n",
    "\n",
    "**Sequential API**\n",
    "- Best for simple, *linear* stacks of layers.\n",
    "- Each layer has exactly **one input** and **one output**.\n",
    "- Easy to use and read.\n",
    "- Limitation: cannot handle multi-input/multi-output or branching networks.\n",
    "\n",
    "**Functional API**\n",
    "- More flexible, lets you build **directed acyclic graphs of layers**.\n",
    "- Supports multiple inputs, outputs, and non-linear topologies (e.g. branching, merging).\n",
    "- Preferred when designing **complex models** (e.g., Inception, ResNet).\n",
    "\n",
    "**Rule of Thumb:**  \n",
    "- If your model is a straight stack → **Sequential**  \n",
    "- If your model has multiple paths or shared layers → **Functional API**\n"
   ]
  },
  {
   "cell_type": "markdown",
   "metadata": {
    "slideshow": {
     "slide_type": "slide"
    }
   },
   "source": [
    "### Keras workflow"
   ]
  },
  {
   "cell_type": "markdown",
   "metadata": {},
   "source": [
    "In the MNIST example we have already built our first Keras model. The general workflow is constructed like this: \n",
    "\n",
    "1. Define your training data: input tensors and target tensors.\n",
    "2. Define a network of layers (or model ) that maps your inputs to your targets.\n",
    "3. Configure the learning process by choosing a loss function, an optimizer, and some metrics to monitor.\n",
    "4. Iterate on your training data by calling the `fit()` method of your model"
   ]
  },
  {
   "cell_type": "markdown",
   "metadata": {},
   "source": [
    "There are two ways to define a Keras model:\n",
    "\n",
    "1. using the `Sequential` class (only for linear stacks of layers, which is the most common network architecture by far)\n",
    "2. using the *functional* API (for directed acyclic graphs of layers, which lets you build completely arbitrary architectures)"
   ]
  },
  {
   "cell_type": "markdown",
   "metadata": {
    "slideshow": {
     "slide_type": "slide"
    }
   },
   "source": [
    "Here’s a two-layer model defined using the `Sequential` class"
   ]
  },
  {
   "cell_type": "code",
   "execution_count": null,
   "metadata": {},
   "outputs": [],
   "source": [
    "from tensorflow.keras import models\n",
    "from tensorflow.keras import layers\n",
    "\n",
    "model = models.Sequential([\n",
    "    layers.Dense(32, activation='relu'),\n",
    "    layers.Dense(32)])"
   ]
  },
  {
   "cell_type": "markdown",
   "metadata": {
    "slideshow": {
     "slide_type": "slide"
    }
   },
   "source": [
    "Once your model architecture is defined, it doesn’t matter whether you used a `Sequential` model or the functional API. All of the following steps are the same. The learning process is configured in the compilation step, where you specify:\n",
    "\n",
    "* *Loss function (objective function)* — The quantity that will be minimized during training. It represents a measure of success for the task at hand.\n",
    "* *Optimizer* — Determines how the network will be updated based on the loss function. It implements a specific variant of stochastic gradient descent (SGD).\n",
    "* *Metrics* — The measures of success you want to monitor during training and validation, such as classification accuracy. Unlike the loss, training will not optimize directly for these metrics. As such, metrics don’t need to be differentiable."
   ]
  },
  {
   "cell_type": "markdown",
   "metadata": {
    "slideshow": {
     "slide_type": "slide"
    }
   },
   "source": [
    "Here’s an example with a single loss function, which is by far the most common case:"
   ]
  },
  {
   "cell_type": "code",
   "execution_count": null,
   "metadata": {},
   "outputs": [],
   "source": [
    "# Define model\n",
    "model = keras.Sequential([keras.layers.Dense(1)])\n",
    "\n",
    "# Compile model\n",
    "model.compile(optimizer='rmsprop',\n",
    "              loss='mean_squared_error',\n",
    "              metrics=['accuracy'])"
   ]
  },
  {
   "cell_type": "markdown",
   "metadata": {
    "slideshow": {
     "slide_type": "slide"
    }
   },
   "source": [
    "Finally, the learning process consists of passing Numpy arrays of input data (and the corresponding target data) to the model via the `fit()` method, similar to what you would do in Scikit-Learn and several other machine-learning libraries:"
   ]
  },
  {
   "cell_type": "code",
   "execution_count": null,
   "metadata": {},
   "outputs": [],
   "source": [
    "# Fit model (in the same manner as you would with scikit-learn)\n",
    "model.fit(input_tensor,\n",
    "          target_tensor, \n",
    "          epochs=5\n",
    "          batch_size=128)"
   ]
  },
  {
   "cell_type": "markdown",
   "metadata": {
    "nbpresent": {
     "id": "cad9e55a-f576-49d1-88a3-197af6f2cf64"
    }
   },
   "source": [
    "<font color=green>**COLAB NOTEBOOK 01**</font>: code on [use of tensors](https://colab.research.google.com/drive/1Ti5xgYJyeMmesZ8vTKCm2L0JeSwNFmsG?usp=sharing)"
   ]
  },
  {
   "cell_type": "markdown",
   "metadata": {
    "nbpresent": {
     "id": "973a0b6c-c02a-47cf-93d6-214574b216aa"
    },
    "slideshow": {
     "slide_type": "slide"
    }
   },
   "source": [
    "## MNIST Example "
   ]
  },
  {
   "cell_type": "markdown",
   "metadata": {
    "nbpresent": {
     "id": "ab731075-b032-4850-8674-3c23c9da71ee"
    }
   },
   "source": [
    "* Build our first neural network using the Keras library\n",
    "* More details on Keras later in this notebook\n",
    "* <font color=green>**COLAB NOTEBOOK 00**</font>: Data used in this [first example](https://colab.research.google.com/drive/1iG3Gg8-vqVufeCaAgQz9spWFWdp67pDP?usp=sharing): MNIST data (full set) of handwritten digits"
   ]
  }
 ],
 "metadata": {
  "anaconda-cloud": {},
  "celltoolbar": "Slideshow",
  "jupytext": {
   "formats": "ipynb,py"
  },
  "kernelspec": {
   "display_name": "Python 3 (ipykernel)",
   "language": "python",
   "name": "python3"
  },
  "language_info": {
   "codemirror_mode": {
    "name": "ipython",
    "version": 3
   },
   "file_extension": ".py",
   "mimetype": "text/x-python",
   "name": "python",
   "nbconvert_exporter": "python",
   "pygments_lexer": "ipython3",
   "version": "3.10.18"
  },
  "nbpresent": {
   "slides": {
    "e1bcc92f-87ee-4cda-abb3-a53c55aa7d3b": {
     "id": "e1bcc92f-87ee-4cda-abb3-a53c55aa7d3b",
     "layout": "manual",
     "prev": null,
     "regions": {
      "20704684-44d7-4469-9fff-2966e85ae769": {
       "attrs": {
        "height": 0.8333333333333334,
        "pad": 0.01,
        "width": 0.8333333333333333,
        "x": 0.07091973498809348,
        "y": 0.09314162519826254
       },
       "id": "20704684-44d7-4469-9fff-2966e85ae769"
      },
      "8cdfe229-1ced-4a84-968c-11f4bdfb2807": {
       "attrs": {
        "height": 1,
        "pad": 0.01,
        "treemap:weight": 1,
        "width": 1,
        "x": 0,
        "y": 0
       },
       "id": "8cdfe229-1ced-4a84-968c-11f4bdfb2807"
      }
     }
    }
   },
   "themes": {}
  },
  "toc": {
   "base_numbering": 1,
   "nav_menu": {},
   "number_sections": true,
   "sideBar": true,
   "skip_h1_title": false,
   "title_cell": "Table of Contents",
   "title_sidebar": "Contents",
   "toc_cell": false,
   "toc_position": {},
   "toc_section_display": true,
   "toc_window_display": false
  },
  "varInspector": {
   "cols": {
    "lenName": 16,
    "lenType": 16,
    "lenVar": 40
   },
   "kernels_config": {
    "python": {
     "delete_cmd_postfix": "",
     "delete_cmd_prefix": "del ",
     "library": "var_list.py",
     "varRefreshCmd": "print(var_dic_list())"
    },
    "r": {
     "delete_cmd_postfix": ") ",
     "delete_cmd_prefix": "rm(",
     "library": "var_list.r",
     "varRefreshCmd": "cat(var_dic_list()) "
    }
   },
   "types_to_exclude": [
    "module",
    "function",
    "builtin_function_or_method",
    "instance",
    "_Feature"
   ],
   "window_display": false
  }
 },
 "nbformat": 4,
 "nbformat_minor": 4
}
