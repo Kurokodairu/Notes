{
 "cells": [
  {
   "cell_type": "markdown",
   "metadata": {
    "slideshow": {
     "slide_type": "slide"
    }
   },
   "source": [
    "# Chapter 15 - Classifying Images with Deep Convolutional Neural Networks"
   ]
  },
  {
   "cell_type": "markdown",
   "metadata": {
    "slideshow": {
     "slide_type": "-"
    }
   },
   "source": [
    "### Overview"
   ]
  },
  {
   "cell_type": "markdown",
   "metadata": {
    "slideshow": {
     "slide_type": "-"
    }
   },
   "source": [
    "- [Building blocks of convolutional neural networks](#Building-blocks-of-convolutional-neural-networks)\n",
    "  - [Understanding CNNs and learning feature hierarchies](#Understanding-CNNs-and-learning-feature-hierarchies)\n",
    "  - [Performing discrete convolutions](#Performing-discrete-convolutions)\n",
    "    - [Performing a discrete convolution in one dimension](#Performing-a-discrete-convolution-in-one-dimension)\n",
    "    - [The effect of zero-padding in convolution](#The-effect-of-zero-padding-in-convolution)\n",
    "    - [Determining the size of the convolution output](#Determining-the-size-of-the-convolution-output)\n",
    "    - [Performing a discrete convolution in 2D](#Performing-a-discrete-convolution-in-2D)\n",
    "    - [Sub-sampling](#Sub-sampling)\n",
    "  - [Putting everything together to build a CNN](#Putting-everything-together-to-build-a-CNN)\n",
    "    - [Implementing a CNN in Keras](#Implementing-a-deep-convolutional-neural-network-using-Keras)\n",
    "    - [Loading and preprocessing the data](#Loading-and-preprocessing-the-data)"
   ]
  },
  {
   "cell_type": "code",
   "execution_count": 3,
   "metadata": {
    "slideshow": {
     "slide_type": "skip"
    }
   },
   "outputs": [],
   "source": [
    "from IPython.display import Image\n",
    "%matplotlib inline"
   ]
  },
  {
   "cell_type": "markdown",
   "metadata": {
    "slideshow": {
     "slide_type": "slide"
    }
   },
   "source": [
    "# Building blocks of convolutional neural networks \n",
    "- Family of models inspired by the visual cortex of the human brain\n",
    "    - object recognition\n",
    "- Developed in the earliy 1990\n",
    "- Important building block in most DNNs for image classification"
   ]
  },
  {
   "cell_type": "markdown",
   "metadata": {
    "slideshow": {
     "slide_type": "slide"
    }
   },
   "source": [
    "## Understanding CNNs and learning feature hierarchies\n",
    "- Extraction of relevant features (1D, 2D, ...)\n",
    "    - Translational invariant patterns"
   ]
  },
  {
   "cell_type": "markdown",
   "metadata": {
    "slideshow": {
     "slide_type": "-"
    }
   },
   "source": [
    "<img src=\"./images/CNN_local_patterns.png\" alt=\"Feature map\" style=\"width: 300px;\"/>\n",
    "MNIST letter borrowed from \"Deep Learning with Python\" (F. Chollet)"
   ]
  },
  {
   "cell_type": "markdown",
   "metadata": {
    "slideshow": {
     "slide_type": "slide"
    }
   },
   "source": [
    "### Combining features in a hierarchy\n",
    "- Low-level features: edges, simple patterns\n",
    "- High-level features: shapes, objects"
   ]
  },
  {
   "cell_type": "markdown",
   "metadata": {
    "slideshow": {
     "slide_type": "slide"
    }
   },
   "source": [
    "<img src=\"./images/cortex.png\" alt=\"Feature map\" style=\"width: 700px;\"/>\n",
    "Hubel and Wiesel visual cortex experiment"
   ]
  },
  {
   "cell_type": "markdown",
   "metadata": {
    "slideshow": {
     "slide_type": "slide"
    }
   },
   "source": [
    "<img src=\"./images/CNN_cat.png\" alt=\"Feature map\" style=\"width: 700px;\"/>\n",
    "Cat borrowed from \"Deep Learning with Python\" (F. Chollet)"
   ]
  },
  {
   "cell_type": "markdown",
   "metadata": {
    "slideshow": {
     "slide_type": "slide"
    }
   },
   "source": [
    "### Feature map\n",
    "- Each element is connected to a small patch of pixels\n",
    "- Weights are shared across all pathes\n",
    "- Size of filters and step sizes control overlap and size of features\n",
    "- Number of filters controls the number of features that can be learned\n",
    "<img src=\"./images/15_01.png\" alt=\"Feature map\" style=\"width: 700px;\"/>"
   ]
  },
  {
   "cell_type": "markdown",
   "metadata": {
    "slideshow": {
     "slide_type": "slide"
    }
   },
   "source": [
    "### Parameters\n",
    "- Each convolutional filter has #parameters = #elements.\n",
    "  - Banks of filters and a set of input channels increases this.\n",
    "- Pooling layers: simplify/decrease dimensionality, e.g. with max: no parameters.\n",
    "- Fully connected layers (multilayer perceptron): #parameters from (IxJ) weight matrix.\n",
    "- Understanding the complexity will be revisited later."
   ]
  },
  {
   "cell_type": "markdown",
   "metadata": {
    "slideshow": {
     "slide_type": "slide"
    }
   },
   "source": [
    "## Performing discrete convolutions  \n",
    "Notation:\n",
    "- Dimension: $\\bf{A}_{\\it{n_1 \\times n_2}}$\n",
    "- Indexing: $\\bf{A}[\\it{i,j}\\bf{]}$\n",
    "- Convolutional operator: $\\ast$\n",
    "  - Not to be confused with dot product, matrix product, Hadamard, Kronecker, Khatri-Rao, ..."
   ]
  },
  {
   "cell_type": "markdown",
   "metadata": {
    "slideshow": {
     "slide_type": "slide"
    }
   },
   "source": [
    "###  Performing a discrete convolution in one dimension\n",
    "- (Discrete) 1D convolution between input (signal) $x$ and filter $w$ is defined as:\n",
    "$$y=x \\ast w \\rightarrow y[i] = \\sum^{+\\infty}_{k=-\\infty}x[i-k]w[k]$$\n",
    "- i.e. each element of the output is the product of a subset of the input and each filter coefficient\n",
    "- Infinities are in practice limited to padding with zeros, e.g. to the size of the filter"
   ]
  },
  {
   "cell_type": "markdown",
   "metadata": {
    "slideshow": {
     "slide_type": "fragment"
    }
   },
   "source": [
    "<img src=\"./images/15_02.png\" alt=\"1D convolution\" style=\"width: 700px;\"/>"
   ]
  },
  {
   "cell_type": "markdown",
   "metadata": {
    "slideshow": {
     "slide_type": "slide"
    }
   },
   "source": [
    "### Convolution with padding:\n",
    "- Assume input $x$ of size $n$ and filter $w$ of size $m$.\n",
    "- A padded vector $x^p$ with size $n+2p$ results in the more practical formula:\n",
    "$$y=x \\ast w \\rightarrow y[i] = \\sum^{k=m-1}_{k=0}x^p[i+m-k]w[k]$$\n",
    "- Even more practical: Rotate (r, flip) the filter to get a dot product notation which can be repeated like a sliding window:\n",
    "$$y[i] = x[i:i+m].w^r$$"
   ]
  },
  {
   "cell_type": "markdown",
   "metadata": {
    "slideshow": {
     "slide_type": "slide"
    }
   },
   "source": [
    "### Convolution vs Cross-Correlation (1D Example)\n",
    "\n",
    "Input:  \n",
    "$x = [x_0, x_1, x_2], \\quad w = [w_0, w_1, w_2]$\n",
    "\n",
    "---\n",
    "\n",
    "#### 🔹 Convolution (at $i = 2$)\n",
    "\n",
    "¤ Formula:  \n",
    "$y[i] = \\sum_{k=0}^{2} x[i-k] \\cdot w[k]$\n",
    "\n",
    "| k | Expression        | Substitution |\n",
    "|---|-------------------|--------------|\n",
    "| 0 | $x[2-0] \\cdot w_0$ | $x_2 w_0$ |\n",
    "| 1 | $x[2-1] \\cdot w_1$ | $x_1 w_1$ |\n",
    "| 2 | $x[2-2] \\cdot w_2$ | $x_0 w_2$ |\n",
    "\n",
    "¤ Result:  \n",
    "$y[2] = x_2 w_0 + x_1 w_1 + x_0 w_2$\n",
    "\n",
    "---\n",
    "\n",
    "\n"
   ]
  },
  {
   "cell_type": "markdown",
   "metadata": {
    "slideshow": {
     "slide_type": "slide"
    }
   },
   "source": [
    "#### 🔹 Cross-Correlation (at $i = 0$)\n",
    "\n",
    "¤ Formula:  \n",
    "$y[i] = \\sum_{k=0}^{2} x[i+k] \\cdot w[k]$\n",
    "\n",
    "| k | Expression        | Substitution |\n",
    "|---|-------------------|--------------|\n",
    "| 0 | $x[0+0] \\cdot w_0$ | $x_0 w_0$ |\n",
    "| 1 | $x[0+1] \\cdot w_1$ | $x_1 w_1$ |\n",
    "| 2 | $x[0+2] \\cdot w_2$ | $x_2 w_2$ |\n",
    "\n",
    "¤ Result:  \n",
    "$y[0] = x_0 w_0 + x_1 w_1 + x_2 w_2$\n",
    "\n",
    "---\n",
    "\n",
    "**Key difference:**  \n",
    "- Convolution uses $x[i-k]$ → the filter is **flipped**.  \n",
    "- Cross-correlation uses $x[i+k]$ → the filter is **as-is**."
   ]
  },
  {
   "cell_type": "markdown",
   "metadata": {
    "slideshow": {
     "slide_type": "slide"
    }
   },
   "source": [
    "### Example\n",
    "- $n=8, m=4, p=0, stride=2$\n",
    "<img src=\"./images/15_03.png\" alt=\"1D convolution steps\" style=\"width: 900px;\"/>"
   ]
  },
  {
   "cell_type": "markdown",
   "metadata": {
    "slideshow": {
     "slide_type": "slide"
    }
   },
   "source": [
    "### The effect of zero-padding in convolution\n",
    "- Full padding: $p=m-1$, gives equal usage of elements, increases output size.\n",
    "- Same padding: $p$ and stride combined to achieve equal input and output size (most used in DNN).\n",
    "- Valid padding: $p=0$, shrinks output and has unequal usage of elements (many layers shrinks too much).\n",
    "- First two are recommended, possibly together with pooling for downsampling."
   ]
  },
  {
   "cell_type": "markdown",
   "metadata": {
    "slideshow": {
     "slide_type": "-"
    }
   },
   "source": [
    "<img src=\"./images/15_11.png\" alt=\"Padding\" style=\"width: 700px;\"/> "
   ]
  },
  {
   "cell_type": "markdown",
   "metadata": {
    "slideshow": {
     "slide_type": "slide"
    }
   },
   "source": [
    "### Determining the size of the convolution output\n",
    "$$o = \\left \\lfloor{\\frac{n+2p-m}{s}}\\right \\rfloor +1 $$  \n",
    "  \n",
    "Example:  \n",
    "$$n=10,m=5,p=2,s=1$$  \n",
    "  \n",
    "$$o = \\left \\lfloor{\\frac{10+2\\times2-5}{1}}\\right \\rfloor +1 = 10$$  \n",
    "#Input == #Output => \"same\""
   ]
  },
  {
   "cell_type": "code",
   "execution_count": 1,
   "metadata": {
    "slideshow": {
     "slide_type": "slide"
    }
   },
   "outputs": [
    {
     "name": "stdout",
     "output_type": "stream",
     "text": [
      "Conv1d Implementation:  [ 5. 14. 16. 26. 24. 34. 19. 22.]\n",
      "Numpy Results:          [ 5 14 16 26 24 34 19 22]\n"
     ]
    }
   ],
   "source": [
    "# Naïve 1D convolution:\n",
    "import numpy as np\n",
    "\n",
    "def conv1d(x, w, p=0, s=1):\n",
    "    w_rot = np.array(w[::-1])\n",
    "    x_padded = np.array(x)\n",
    "    if p > 0:\n",
    "        zero_pad = np.zeros(shape=p)\n",
    "        x_padded = np.concatenate([zero_pad, x_padded, zero_pad])\n",
    "    res = []\n",
    "    for i in range(0, int(len(x)/s),s):\n",
    "        res.append(np.sum(x_padded[i:i+w_rot.shape[0]] * w_rot))\n",
    "    return np.array(res)\n",
    "\n",
    "## Testing:\n",
    "x = [1, 3, 2, 4, 5, 6, 1, 3]\n",
    "w = [1, 0, 3, 1, 2]\n",
    "print('Conv1d Implementation: ', \n",
    "      conv1d(x, w, p=2, s=1))\n",
    "print('Numpy Results:         ', \n",
    "      np.convolve(x, w, mode='same'))"
   ]
  },
  {
   "cell_type": "markdown",
   "metadata": {
    "slideshow": {
     "slide_type": "fragment"
    }
   },
   "source": [
    "Mental arithmetic (aided by paper/computer if needed): Compute the 1st and 4th output manually.  \n",
    "Discuss/compare with your neigbhour(s)."
   ]
  },
  {
   "cell_type": "markdown",
   "metadata": {
    "slideshow": {
     "slide_type": "slide"
    }
   },
   "source": [
    "### Performing a discrete convolution in 2D\n",
    "\n",
    "<img src=\"./images/padded_and_output.png\" alt=\"2D convolution\" style=\"width: 700px;\"/>"
   ]
  },
  {
   "cell_type": "markdown",
   "metadata": {
    "slideshow": {
     "slide_type": "-"
    }
   },
   "source": [
    "Just like 1D, but in 2D. :-)\n",
    "- $X_{n_1 \\times n_2}$, $W_{m_1 \\times m_2}$  \n",
    "$$Y=X \\ast W \\rightarrow Y[i,j] = \\sum^{+\\infty}_{k_1=-\\infty}\\sum^{+\\infty}_{k_2=-\\infty}X[i-k_1,j-k_2]W[k_1,k_2]$$  \n",
    "  \n",
    "- Zero-padding, filter rotation and strides still apply"
   ]
  },
  {
   "cell_type": "markdown",
   "metadata": {
    "slideshow": {
     "slide_type": "slide"
    }
   },
   "source": [
    "### Data: X, Filter: W (un-rotated)\n",
    "<img src=\"./images/15_04.png\" alt=\"2D convolution\" style=\"width: 700px;\"/>\n",
    "(next: rotate and move the filter)"
   ]
  },
  {
   "cell_type": "markdown",
   "metadata": {
    "slideshow": {
     "slide_type": "slide"
    }
   },
   "source": [
    "- $n_1=3,n_2=3,m_1=3,m_2=3,p=1,s=2$\n",
    "- Rotated filter: W_rot=W[::-1,::-1]\n",
    "<img src=\"./images/15_05.png\" alt=\"2D convolution steps\" style=\"width: 900px;\"/>"
   ]
  },
  {
   "cell_type": "code",
   "execution_count": 3,
   "metadata": {
    "slideshow": {
     "slide_type": "slide"
    }
   },
   "outputs": [
    {
     "name": "stdout",
     "output_type": "stream",
     "text": [
      "Conv2d Implementation: \n",
      " [[11. 25. 32. 13.]\n",
      " [19. 25. 24. 13.]\n",
      " [13. 28. 25. 17.]\n",
      " [11. 17. 14.  9.]]\n",
      "Scipy Results:         \n",
      " [[11 25 32 13]\n",
      " [19 25 24 13]\n",
      " [13 28 25 17]\n",
      " [11 17 14  9]]\n"
     ]
    }
   ],
   "source": [
    "# Naïve 2D convolution:\n",
    "import numpy as np\n",
    "import scipy.signal\n",
    "\n",
    "\n",
    "def conv2d(X, W, p=(0,0), s=(1,1)):\n",
    "    W_rot = np.array(W)[::-1,::-1]\n",
    "    X_orig = np.array(X)\n",
    "    n1 = X_orig.shape[0] + 2*p[0]\n",
    "    n2 = X_orig.shape[1] + 2*p[1]\n",
    "    X_padded = np.zeros(shape=(n1,n2))\n",
    "    X_padded[p[0]:p[0] + X_orig.shape[0], \n",
    "             p[1]:p[1] + X_orig.shape[1]] = X_orig\n",
    "\n",
    "    res = []\n",
    "    for i in range(0, int((X_padded.shape[0] - \n",
    "                           W_rot.shape[0])/s[0])+1, s[0]):\n",
    "        res.append([])\n",
    "        for j in range(0, int((X_padded.shape[1] - \n",
    "                               W_rot.shape[1])/s[1])+1, s[1]):\n",
    "            X_sub = X_padded[i:i+W_rot.shape[0], j:j+W_rot.shape[1]]\n",
    "            res[-1].append(np.sum(X_sub * W_rot))\n",
    "    return(np.array(res))\n",
    "    \n",
    "X = [[1, 3, 2, 4], [5, 6, 1, 3], [1 , 2,0, 2], [3, 4, 3, 2]]\n",
    "W = [[1, 0, 3], [1, 2, 1], [0, 1, 1]]\n",
    "print('Conv2d Implementation: \\n', \n",
    "      conv2d(X, W, p=(1,1), s=(1,1)))\n",
    "\n",
    "print('Scipy Results:         \\n', \n",
    "      scipy.signal.convolve2d(X, W, mode='same'))\n",
    "\n",
    "# Much more efficient solutions are implemented, e.g. in Tensorflow, \n",
    "# especially quick for typical filter sizes of 1x1, 3x3, 5x5"
   ]
  },
  {
   "cell_type": "markdown",
   "metadata": {
    "slideshow": {
     "slide_type": "slide"
    }
   },
   "source": [
    "### Convolution filter applied to letter 'o'\n",
    "<img src=\"./images/CNN_filter2D.png\" alt=\"Sub-sampling\" style=\"width: 700px;\"/>\n",
    "Response map borrowed from \"Deep Learning with Python\" (F. Chollet)"
   ]
  },
  {
   "cell_type": "markdown",
   "metadata": {
    "slideshow": {
     "slide_type": "slide"
    }
   },
   "source": [
    "## A note on implementation\n",
    "- In practice filters are not flipped.\n",
    "  - Tensorflow, PyTorch, ...\n",
    "- Convolution -> Cross-correlation.\n",
    "    - Non-flipped filters, otherwise the same\n",
    "    - Quicker computations, no side-effects for deep learning purposes."
   ]
  },
  {
   "cell_type": "markdown",
   "metadata": {
    "slideshow": {
     "slide_type": "slide"
    }
   },
   "source": [
    "## Sub-sampling\n",
    "- Max-pooling and mean-pooling (average-pooling)\n",
    "- $P_{n_1 \\times n_2}$, the size of the neighbourhood for pooling\n",
    "- Introduces robustness to small local changes due to noise or other minor variations.\n",
    "- Dimensional reduction for higher computational efficency and reduced overfitting.\n",
    "- Usually non-overlapping, i.e. stride-size = pooling-size, but deviations occur."
   ]
  },
  {
   "cell_type": "markdown",
   "metadata": {
    "slideshow": {
     "slide_type": "-"
    }
   },
   "source": [
    "<img src=\"./images/15_06.png\" alt=\"Sub-sampling\" style=\"width: 700px;\"/>"
   ]
  },
  {
   "cell_type": "markdown",
   "metadata": {
    "slideshow": {
     "slide_type": "slide"
    }
   },
   "source": [
    "### Alternative subsampling by convolution\n",
    "$$o = \\left \\lfloor{\\frac{n+2p-m}{s}}\\right \\rfloor +1 $$  \n",
    "- $n$=input width (e.g. 100)\n",
    "- $p$=padding\n",
    "- $m$=filter size\n",
    "- $s$=stride"
   ]
  },
  {
   "cell_type": "markdown",
   "metadata": {
    "slideshow": {
     "slide_type": "slide"
    }
   },
   "source": [
    "# Putting everything together to build a CNN \n",
    "- Same building structure as previous NN\n",
    "    - Convolution as pre-activation ($A = W \\ast X + b$ instead of $A = Wx+b$)\n",
    "    - Activation: $H = \\phi(A)$"
   ]
  },
  {
   "cell_type": "markdown",
   "metadata": {
    "slideshow": {
     "slide_type": "slide"
    }
   },
   "source": [
    "## Working with multiple input or color channels\n",
    "- Several layers of $X$:\n",
    "    - RGB: Rank-3 tensor / three-dimensional array $X_{N_1 \\times N_2 \\times C_{in}}$\n",
    "    - Grayscale: $C_{in}=1$\n",
    "- Images can typically be read in as data type 'uint8' ($2^8=256$ integer values) to save space."
   ]
  },
  {
   "cell_type": "code",
   "execution_count": 5,
   "metadata": {
    "slideshow": {
     "slide_type": "slide"
    }
   },
   "outputs": [
    {
     "data": {
      "image/png": "[encoded data removed]",
      "text/plain": [
       "<Figure size 640x480 with 1 Axes>"
      ]
     },
     "metadata": {},
     "output_type": "display_data"
    }
   ],
   "source": [
    "import matplotlib.pyplot as plt\n",
    "\n",
    "# Read image\n",
    "img = plt.imread(\"./example-image.png\")\n",
    "\n",
    "# Show image\n",
    "plt.imshow(img)\n",
    "plt.axis(\"off\")  # Hide axes\n",
    "plt.show()\n"
   ]
  },
  {
   "cell_type": "code",
   "execution_count": 7,
   "metadata": {
    "slideshow": {
     "slide_type": "-"
    }
   },
   "outputs": [
    {
     "name": "stdout",
     "output_type": "stream",
     "text": [
      "Image shape: (252, 221, 4)\n",
      "Number of channels: 4\n",
      "Image data type: float32\n",
      "[[[0.7019608  0.5254902  0.43137255 1.        ]\n",
      "  [0.7137255  0.53333336 0.4392157  1.        ]]\n",
      "\n",
      " [[0.7058824  0.5294118  0.43529412 1.        ]\n",
      "  [0.7137255  0.5372549  0.44313726 1.        ]]]\n"
     ]
    }
   ],
   "source": [
    "print('Image shape:', img.shape)\n",
    "print('Number of channels:', img.shape[2])\n",
    "print('Image data type:', img.dtype)\n",
    "\n",
    "print(img[100:102, 100:102, :])"
   ]
  },
  {
   "cell_type": "markdown",
   "metadata": {
    "slideshow": {
     "slide_type": "slide"
    }
   },
   "source": [
    "### Convolution in multiple channels\n",
    "- Separate kernel per layer\n",
    "- Convolution per layer, then sum over layers\n",
    "<img src=\"./images/CNN_multi1.png\" alt=\"Convolution and pooling\" style=\"width: 800px;\"/>"
   ]
  },
  {
   "cell_type": "markdown",
   "metadata": {
    "slideshow": {
     "slide_type": "slide"
    }
   },
   "source": [
    "- Multiple feature maps ($W_{m_1 \\times m_2 \\times C_{in} \\times C_{out}}$)\n",
    "<img src=\"./images/CNN_multi2.png\" alt=\"Convolution and pooling\" style=\"width: 800px;\"/>\n",
    "### Full story in words:\n",
    "\n",
    "- **Loop over filters** ($k$)  \n",
    "- For each filter, **loop over input channels** ($c$)  \n",
    "- **Convolve** input channel $X[:,:,c]$ with the corresponding kernel slice $W[:,:,c,k]$  \n",
    "- **Sum** them across all channels → $Y^{Conv}[:,:,k]$  \n",
    "- **Add bias** $b[k]$  \n",
    "- **Apply activation** $\\phi$  \n",
    "- Done: one filter produces one feature map\n"
   ]
  },
  {
   "cell_type": "markdown",
   "metadata": {
    "slideshow": {
     "slide_type": "slide"
    }
   },
   "source": [
    "<img src=\"./images/15_07.png\" alt=\"Convolution and pooling\" style=\"width: 800px;\"/>"
   ]
  },
  {
   "cell_type": "markdown",
   "metadata": {
    "slideshow": {
     "slide_type": "slide"
    }
   },
   "source": [
    "### Parameter-sharing and sparse-connectivity\n",
    "- CNN trainable parameters here: $m_1 \\times m_2 \\times 3 \\times 5 + 5$ (last 5 for bias units)\n",
    "    - No trainable parameter for pooling\n",
    "    - Input of size $n_1 \\times n_2 \\times 3$, and assuming mode='same', gives feature map of size $n_1 \\times n_2 \\times 5$"
   ]
  },
  {
   "cell_type": "markdown",
   "metadata": {
    "slideshow": {
     "slide_type": "slide"
    }
   },
   "source": [
    "### Parameter-sharing and sparse-connectivity\n",
    "- CNN trainable parameters here: $m_1 \\times m_2 \\times 3 \\times 5 + 5$ (last 5 for bias units)\n",
    "- Corresponding number of parameters with a fully connected layer: $(n_1 \\times n_2 \\times 3) \\times (n_1 \\times n_2 \\times 5) = (n_1 \\times n_2)^2 \\times 3 \\times 5$"
   ]
  },
  {
   "cell_type": "markdown",
   "metadata": {
    "slideshow": {
     "slide_type": "slide"
    }
   },
   "source": [
    "## Regularizing a neural network\n",
    "- The size of a well-performing network is a challenging problem.\n",
    "- 'Capacity': level of complexity that can be learned\n",
    "    - Too small => under fit, cannot learn underlying structure if complex\n",
    "    - Too large => over fit, perfect learning - bad prediction\n",
    "- One strategy: overfit sligthly, then regularize\n",
    "    - L2 regularization\n",
    "    - Norm constraint on weights (e.g. kernel_constraint=maxnorm(4))\n",
    "    - Add Gaussian noise to weights\n",
    "    - Droput\n"
   ]
  },
  {
   "cell_type": "markdown",
   "metadata": {
    "slideshow": {
     "slide_type": "slide"
    }
   },
   "source": [
    "### Dropout\n",
    "\n",
    "#### Training phase\n",
    "- Randomly **drop** outputs from hidden units with probability $p_{drop}$ (e.g., $p_{drop}=0.5$).  \n",
    "- The activations of the remaining units are **scaled up** by a factor of $\\tfrac{1}{1-p_{drop}}$  \n",
    "  (e.g., if $p_{drop}=0.5$, the remaining activations are doubled).  \n",
    "- This ensures that the expected total contribution of all units stays the same.  \n",
    "- Forces the network to learn **redundant, distributed representations** instead of relying on specific neurons.  \n",
    "- Helps prevent overfitting and makes the model more robust.  \n",
    "\n",
    "#### Testing (inference) phase\n",
    "- **No units are dropped.**  \n",
    "- The network uses **all neurons**, but because activations were scaled during training,  \n",
    "  the output distribution at test time matches what the model saw during training.  \n",
    "\n",
    "####  Interpretation\n",
    "- Dropout can be seen as training an **ensemble of many different subnetworks**.  \n",
    "- The final prediction is effectively an **average over these subnetworks**, improving generalization.  \n"
   ]
  },
  {
   "cell_type": "markdown",
   "metadata": {
    "slideshow": {
     "slide_type": "slide"
    }
   },
   "source": [
    "<img src=\"./images/15_08.png\" alt=\"Dropout\" style=\"width: 800px;\"/>"
   ]
  },
  {
   "cell_type": "markdown",
   "metadata": {
    "slideshow": {
     "slide_type": "fragment"
    }
   },
   "source": [
    "Filter-wise dropout of convolutions are possible in some implementations, i.e. drop convolution filter instead of weights. If a layer does not affect sizes, layer-dropout is also a possible technique (drop a whole layer), typically in long chains of similar layers."
   ]
  },
  {
   "cell_type": "code",
   "execution_count": 117,
   "metadata": {
    "slideshow": {
     "slide_type": "slide"
    }
   },
   "outputs": [
    {
     "name": "stdout",
     "output_type": "stream",
     "text": [
      "Original activations: [2. 4. 6. 8.]\n",
      "Dropout mask: [0. 0. 1. 0.]\n",
      "After dropout (training): [ 0.  0. 12.  0.]\n",
      "At test time: [2. 4. 6. 8.]\n"
     ]
    }
   ],
   "source": [
    "import numpy as np\n",
    "\n",
    "# Example hidden layer activations (after applying nonlinearity, e.g., ReLU)\n",
    "h = np.array([2.0, 4.0, 6.0, 8.0])\n",
    "\n",
    "# Dropout settings\n",
    "p_drop = 0.5\n",
    "keep_prob = 1 - p_drop\n",
    "\n",
    "# Training phase\n",
    "mask = (np.random.rand(*h.shape) < keep_prob).astype(float)   # randomly drop\n",
    "h_dropped = h * mask / keep_prob   # scale survivors by 1/keep_prob\n",
    "\n",
    "print(\"Original activations:\", h)\n",
    "print(\"Dropout mask:\", mask)\n",
    "print(\"After dropout (training):\", h_dropped)\n",
    "\n",
    "# Testing phase (no dropout, no scaling needed if 'inverted dropout' used)\n",
    "h_test = h\n",
    "print(\"At test time:\", h_test)\n"
   ]
  },
  {
   "cell_type": "markdown",
   "metadata": {
    "slideshow": {
     "slide_type": "slide"
    }
   },
   "source": [
    "## Why image classification is difficult\n",
    "<img src=\"./images/Difficult1.jpg\" alt=\"Difficult 1\" style=\"width: 500px;\"/>\n",
    "<img src=\"./images/Difficult2.jpg\" alt=\"Difficult 2\" style=\"width: 500px;\"/>\n",
    "- Background, lighting, position, angle, posture, rotation, ..."
   ]
  },
  {
   "cell_type": "markdown",
   "metadata": {
    "slideshow": {
     "slide_type": "slide"
    }
   },
   "source": [
    "## Traditional pre-processing\n",
    "<img src=\"./images/Trad_preprocessing.jpg\" alt=\"Traditional preprocessing\" style=\"width: 800px;\"/>\n",
    "- In deep learning we try to generalize through variation in data plus augmentation"
   ]
  },
  {
   "cell_type": "markdown",
   "metadata": {
    "slideshow": {
     "slide_type": "slide"
    }
   },
   "source": [
    "## Implementing a deep convolutional neural network using Keras\n",
    "- Example reusing the MNIST data, $n_1 \\times n_2 \\times c_{in} = 28 \\times 28 \\times 1$ (grayscale).\n",
    "- $5 \\times 5$ kernels, 32 and 64 output feature maps, fully connected ($1024 \\times 1024$), then fully connected ($1024 \\times 10$) acting as softmax (no padding)"
   ]
  },
  {
   "cell_type": "markdown",
   "metadata": {
    "slideshow": {
     "slide_type": "-"
    }
   },
   "source": [
    "<img src=\"./images/15_09.png\" alt=\"Multilayer CNN\" style=\"width: 1000px;\"/>"
   ]
  },
  {
   "cell_type": "markdown",
   "metadata": {
    "slideshow": {
     "slide_type": "slide"
    }
   },
   "source": [
    "> **Note:** Before running the next cell, make sure you have the following packages installed:  \n",
    "> - `pydot` (needed for model visualization with `plot_model`)  \n",
    "> - `seaborn` (used for plotting and advanced visualization)  \n",
    ">\n",
    "> You can install them with:\n",
    "> ```bash\n",
    "> pip install pydot seaborn\n",
    "> ```\n"
   ]
  },
  {
   "cell_type": "markdown",
   "metadata": {
    "slideshow": {
     "slide_type": "slide"
    }
   },
   "source": [
    "## Loading and preprocessing the data"
   ]
  },
  {
   "cell_type": "code",
   "execution_count": 82,
   "metadata": {
    "slideshow": {
     "slide_type": "-"
    }
   },
   "outputs": [],
   "source": [
    "## unzips mnist\n",
    "\n",
    "import sys\n",
    "import gzip\n",
    "import shutil\n",
    "import os\n",
    "\n",
    "\n",
    "if (sys.version_info > (3, 0)):\n",
    "    writemode = 'wb'\n",
    "else:\n",
    "    writemode = 'w'\n",
    "\n",
    "zipped_mnist = [f for f in os.listdir('./')\n",
    "                if f.endswith('ubyte.gz')]\n",
    "for z in zipped_mnist:\n",
    "    with gzip.GzipFile(z, mode='rb') as decompressed, open(z[:-3], writemode) as outfile:\n",
    "        outfile.write(decompressed.read())"
   ]
  },
  {
   "cell_type": "code",
   "execution_count": 83,
   "metadata": {
    "slideshow": {
     "slide_type": "slide"
    }
   },
   "outputs": [
    {
     "name": "stdout",
     "output_type": "stream",
     "text": [
      "Rows: 60000,  Columns: 784\n",
      "Rows: 10000,  Columns: 784\n",
      "Training:    (50000, 784) (50000,)\n",
      "Validation:  (10000, 784) (10000,)\n",
      "Test Set:    (10000, 784) (10000,)\n"
     ]
    }
   ],
   "source": [
    "import struct\n",
    "import numpy as np\n",
    "\n",
    "\n",
    "def load_mnist(path, kind='train'):\n",
    "    \"\"\"Load MNIST data from `path`\"\"\"\n",
    "    labels_path = os.path.join(path,\n",
    "                               '%s-labels-idx1-ubyte'\n",
    "                                % kind)\n",
    "    images_path = os.path.join(path,\n",
    "                               '%s-images-idx3-ubyte'\n",
    "                               % kind)\n",
    "\n",
    "    with open(labels_path, 'rb') as lbpath:\n",
    "        magic, n = struct.unpack('>II',\n",
    "                                 lbpath.read(8))\n",
    "        labels = np.fromfile(lbpath,\n",
    "                             dtype=np.uint8)\n",
    "\n",
    "    with open(images_path, 'rb') as imgpath:\n",
    "        magic, num, rows, cols = struct.unpack(\">IIII\",\n",
    "                                               imgpath.read(16))\n",
    "        images = np.fromfile(imgpath,\n",
    "                             dtype=np.uint8).reshape(len(labels), 784)\n",
    "\n",
    "    return images, labels\n",
    "\n",
    "\n",
    "X_data, y_data = load_mnist('./data', kind='train')\n",
    "print('Rows: %d,  Columns: %d' % (X_data.shape[0], X_data.shape[1]))\n",
    "X_test, y_test = load_mnist('./data', kind='t10k')\n",
    "print('Rows: %d,  Columns: %d' % (X_test.shape[0], X_test.shape[1]))\n",
    "\n",
    "X_train, y_train = X_data[:50000,:], y_data[:50000]\n",
    "X_valid, y_valid = X_data[50000:,:], y_data[50000:]\n",
    "\n",
    "print('Training:   ', X_train.shape, y_train.shape)\n",
    "print('Validation: ', X_valid.shape, y_valid.shape)\n",
    "print('Test Set:   ', X_test.shape, y_test.shape)"
   ]
  },
  {
   "cell_type": "markdown",
   "metadata": {
    "slideshow": {
     "slide_type": "slide"
    }
   },
   "source": [
    "### Standardize each collection with respect to training\n",
    "- Pixel-wise means\n",
    "- Set-wise standard deviations (avoiding 0 division for constant pixels)"
   ]
  },
  {
   "cell_type": "code",
   "execution_count": 84,
   "metadata": {
    "slideshow": {
     "slide_type": "-"
    }
   },
   "outputs": [],
   "source": [
    "# Standardize data based on training data\n",
    "mean_vals = np.mean(X_train, axis=0)\n",
    "std_val = np.std(X_train)\n",
    "\n",
    "X_train_centered = (X_train - mean_vals)/std_val\n",
    "X_valid_centered = (X_valid - mean_vals)/std_val\n",
    "X_test_centered = (X_test - mean_vals)/std_val\n",
    "\n",
    "del X_data, y_data, X_train, X_valid, X_test"
   ]
  },
  {
   "cell_type": "markdown",
   "metadata": {
    "slideshow": {
     "slide_type": "slide"
    }
   },
   "source": [
    "### Encodig and reshaping to 4D tensors"
   ]
  },
  {
   "cell_type": "code",
   "execution_count": 85,
   "metadata": {
    "slideshow": {
     "slide_type": "-"
    }
   },
   "outputs": [
    {
     "name": "stdout",
     "output_type": "stream",
     "text": [
      "(50000, 28, 28, 1)\n",
      "(50000, 10)\n"
     ]
    }
   ],
   "source": [
    "from sklearn.preprocessing import OneHotEncoder\n",
    "\n",
    "one_hot_encoder = OneHotEncoder(sparse_output=False, categories='auto')\n",
    "Y_train = one_hot_encoder.fit_transform(y_train.reshape(-1,1))\n",
    "Y_valid = one_hot_encoder.transform(y_valid.reshape(-1,1))\n",
    "Y_test  = one_hot_encoder.transform(y_test.reshape(-1,1))\n",
    "\n",
    "X_train_centered = X_train_centered.reshape((X_train_centered.shape[0], 28, 28, 1)) # Grayscale = 1\n",
    "X_valid_centered = X_valid_centered.reshape((X_valid_centered.shape[0], 28, 28, 1))\n",
    "X_test_centered  = X_test_centered.reshape((X_test_centered.shape[0], 28, 28, 1))\n",
    "\n",
    "print(X_train_centered.shape)\n",
    "print(Y_train.shape)\n"
   ]
  },
  {
   "cell_type": "markdown",
   "metadata": {
    "slideshow": {
     "slide_type": "slide"
    }
   },
   "source": [
    "### Set up sequential CNN model in Keras"
   ]
  },
  {
   "cell_type": "code",
   "execution_count": 86,
   "metadata": {},
   "outputs": [
    {
     "name": "stderr",
     "output_type": "stream",
     "text": [
      "C:\\Users\\alfa\\.conda\\envs\\dat300-env\\lib\\site-packages\\keras\\src\\layers\\convolutional\\base_conv.py:113: UserWarning: Do not pass an `input_shape`/`input_dim` argument to a layer. When using Sequential models, prefer using an `Input(shape)` object as the first layer in the model instead.\n",
      "  super().__init__(activity_regularizer=activity_regularizer, **kwargs)\n"
     ]
    },
    {
     "data": {
      "text/html": [
       "<pre style=\"white-space:pre;overflow-x:auto;line-height:normal;font-family:Menlo,'DejaVu Sans Mono',consolas,'Courier New',monospace\"><span style=\"font-weight: bold\">Model: \"sequential_2\"</span>\n",
       "</pre>\n"
      ],
      "text/plain": [
       "\u001b[1mModel: \"sequential_2\"\u001b[0m\n"
      ]
     },
     "metadata": {},
     "output_type": "display_data"
    },
    {
     "data": {
      "text/html": [
       "<pre style=\"white-space:pre;overflow-x:auto;line-height:normal;font-family:Menlo,'DejaVu Sans Mono',consolas,'Courier New',monospace\">┏━━━━━━━━━━━━━━━━━━━━━━━━━━━━━━━━━━━━━━┳━━━━━━━━━━━━━━━━━━━━━━━━━━━━━┳━━━━━━━━━━━━━━━━━┓\n",
       "┃<span style=\"font-weight: bold\"> Layer (type)                         </span>┃<span style=\"font-weight: bold\"> Output Shape                </span>┃<span style=\"font-weight: bold\">         Param # </span>┃\n",
       "┡━━━━━━━━━━━━━━━━━━━━━━━━━━━━━━━━━━━━━━╇━━━━━━━━━━━━━━━━━━━━━━━━━━━━━╇━━━━━━━━━━━━━━━━━┩\n",
       "│ conv2d_4 (<span style=\"color: #0087ff; text-decoration-color: #0087ff\">Conv2D</span>)                    │ (<span style=\"color: #00d7ff; text-decoration-color: #00d7ff\">None</span>, <span style=\"color: #00af00; text-decoration-color: #00af00\">24</span>, <span style=\"color: #00af00; text-decoration-color: #00af00\">24</span>, <span style=\"color: #00af00; text-decoration-color: #00af00\">32</span>)          │             <span style=\"color: #00af00; text-decoration-color: #00af00\">832</span> │\n",
       "├──────────────────────────────────────┼─────────────────────────────┼─────────────────┤\n",
       "│ max_pooling2d_4 (<span style=\"color: #0087ff; text-decoration-color: #0087ff\">MaxPooling2D</span>)       │ (<span style=\"color: #00d7ff; text-decoration-color: #00d7ff\">None</span>, <span style=\"color: #00af00; text-decoration-color: #00af00\">12</span>, <span style=\"color: #00af00; text-decoration-color: #00af00\">12</span>, <span style=\"color: #00af00; text-decoration-color: #00af00\">32</span>)          │               <span style=\"color: #00af00; text-decoration-color: #00af00\">0</span> │\n",
       "├──────────────────────────────────────┼─────────────────────────────┼─────────────────┤\n",
       "│ conv2d_5 (<span style=\"color: #0087ff; text-decoration-color: #0087ff\">Conv2D</span>)                    │ (<span style=\"color: #00d7ff; text-decoration-color: #00d7ff\">None</span>, <span style=\"color: #00af00; text-decoration-color: #00af00\">8</span>, <span style=\"color: #00af00; text-decoration-color: #00af00\">8</span>, <span style=\"color: #00af00; text-decoration-color: #00af00\">64</span>)            │          <span style=\"color: #00af00; text-decoration-color: #00af00\">51,264</span> │\n",
       "├──────────────────────────────────────┼─────────────────────────────┼─────────────────┤\n",
       "│ max_pooling2d_5 (<span style=\"color: #0087ff; text-decoration-color: #0087ff\">MaxPooling2D</span>)       │ (<span style=\"color: #00d7ff; text-decoration-color: #00d7ff\">None</span>, <span style=\"color: #00af00; text-decoration-color: #00af00\">4</span>, <span style=\"color: #00af00; text-decoration-color: #00af00\">4</span>, <span style=\"color: #00af00; text-decoration-color: #00af00\">64</span>)            │               <span style=\"color: #00af00; text-decoration-color: #00af00\">0</span> │\n",
       "├──────────────────────────────────────┼─────────────────────────────┼─────────────────┤\n",
       "│ flatten_2 (<span style=\"color: #0087ff; text-decoration-color: #0087ff\">Flatten</span>)                  │ (<span style=\"color: #00d7ff; text-decoration-color: #00d7ff\">None</span>, <span style=\"color: #00af00; text-decoration-color: #00af00\">1024</span>)                │               <span style=\"color: #00af00; text-decoration-color: #00af00\">0</span> │\n",
       "├──────────────────────────────────────┼─────────────────────────────┼─────────────────┤\n",
       "│ dense_4 (<span style=\"color: #0087ff; text-decoration-color: #0087ff\">Dense</span>)                      │ (<span style=\"color: #00d7ff; text-decoration-color: #00d7ff\">None</span>, <span style=\"color: #00af00; text-decoration-color: #00af00\">1024</span>)                │       <span style=\"color: #00af00; text-decoration-color: #00af00\">1,049,600</span> │\n",
       "├──────────────────────────────────────┼─────────────────────────────┼─────────────────┤\n",
       "│ dropout_2 (<span style=\"color: #0087ff; text-decoration-color: #0087ff\">Dropout</span>)                  │ (<span style=\"color: #00d7ff; text-decoration-color: #00d7ff\">None</span>, <span style=\"color: #00af00; text-decoration-color: #00af00\">1024</span>)                │               <span style=\"color: #00af00; text-decoration-color: #00af00\">0</span> │\n",
       "├──────────────────────────────────────┼─────────────────────────────┼─────────────────┤\n",
       "│ dense_5 (<span style=\"color: #0087ff; text-decoration-color: #0087ff\">Dense</span>)                      │ (<span style=\"color: #00d7ff; text-decoration-color: #00d7ff\">None</span>, <span style=\"color: #00af00; text-decoration-color: #00af00\">10</span>)                  │          <span style=\"color: #00af00; text-decoration-color: #00af00\">10,250</span> │\n",
       "└──────────────────────────────────────┴─────────────────────────────┴─────────────────┘\n",
       "</pre>\n"
      ],
      "text/plain": [
       "┏━━━━━━━━━━━━━━━━━━━━━━━━━━━━━━━━━━━━━━┳━━━━━━━━━━━━━━━━━━━━━━━━━━━━━┳━━━━━━━━━━━━━━━━━┓\n",
       "┃\u001b[1m \u001b[0m\u001b[1mLayer (type)                        \u001b[0m\u001b[1m \u001b[0m┃\u001b[1m \u001b[0m\u001b[1mOutput Shape               \u001b[0m\u001b[1m \u001b[0m┃\u001b[1m \u001b[0m\u001b[1m        Param #\u001b[0m\u001b[1m \u001b[0m┃\n",
       "┡━━━━━━━━━━━━━━━━━━━━━━━━━━━━━━━━━━━━━━╇━━━━━━━━━━━━━━━━━━━━━━━━━━━━━╇━━━━━━━━━━━━━━━━━┩\n",
       "│ conv2d_4 (\u001b[38;5;33mConv2D\u001b[0m)                    │ (\u001b[38;5;45mNone\u001b[0m, \u001b[38;5;34m24\u001b[0m, \u001b[38;5;34m24\u001b[0m, \u001b[38;5;34m32\u001b[0m)          │             \u001b[38;5;34m832\u001b[0m │\n",
       "├──────────────────────────────────────┼─────────────────────────────┼─────────────────┤\n",
       "│ max_pooling2d_4 (\u001b[38;5;33mMaxPooling2D\u001b[0m)       │ (\u001b[38;5;45mNone\u001b[0m, \u001b[38;5;34m12\u001b[0m, \u001b[38;5;34m12\u001b[0m, \u001b[38;5;34m32\u001b[0m)          │               \u001b[38;5;34m0\u001b[0m │\n",
       "├──────────────────────────────────────┼─────────────────────────────┼─────────────────┤\n",
       "│ conv2d_5 (\u001b[38;5;33mConv2D\u001b[0m)                    │ (\u001b[38;5;45mNone\u001b[0m, \u001b[38;5;34m8\u001b[0m, \u001b[38;5;34m8\u001b[0m, \u001b[38;5;34m64\u001b[0m)            │          \u001b[38;5;34m51,264\u001b[0m │\n",
       "├──────────────────────────────────────┼─────────────────────────────┼─────────────────┤\n",
       "│ max_pooling2d_5 (\u001b[38;5;33mMaxPooling2D\u001b[0m)       │ (\u001b[38;5;45mNone\u001b[0m, \u001b[38;5;34m4\u001b[0m, \u001b[38;5;34m4\u001b[0m, \u001b[38;5;34m64\u001b[0m)            │               \u001b[38;5;34m0\u001b[0m │\n",
       "├──────────────────────────────────────┼─────────────────────────────┼─────────────────┤\n",
       "│ flatten_2 (\u001b[38;5;33mFlatten\u001b[0m)                  │ (\u001b[38;5;45mNone\u001b[0m, \u001b[38;5;34m1024\u001b[0m)                │               \u001b[38;5;34m0\u001b[0m │\n",
       "├──────────────────────────────────────┼─────────────────────────────┼─────────────────┤\n",
       "│ dense_4 (\u001b[38;5;33mDense\u001b[0m)                      │ (\u001b[38;5;45mNone\u001b[0m, \u001b[38;5;34m1024\u001b[0m)                │       \u001b[38;5;34m1,049,600\u001b[0m │\n",
       "├──────────────────────────────────────┼─────────────────────────────┼─────────────────┤\n",
       "│ dropout_2 (\u001b[38;5;33mDropout\u001b[0m)                  │ (\u001b[38;5;45mNone\u001b[0m, \u001b[38;5;34m1024\u001b[0m)                │               \u001b[38;5;34m0\u001b[0m │\n",
       "├──────────────────────────────────────┼─────────────────────────────┼─────────────────┤\n",
       "│ dense_5 (\u001b[38;5;33mDense\u001b[0m)                      │ (\u001b[38;5;45mNone\u001b[0m, \u001b[38;5;34m10\u001b[0m)                  │          \u001b[38;5;34m10,250\u001b[0m │\n",
       "└──────────────────────────────────────┴─────────────────────────────┴─────────────────┘\n"
      ]
     },
     "metadata": {},
     "output_type": "display_data"
    },
    {
     "data": {
      "text/html": [
       "<pre style=\"white-space:pre;overflow-x:auto;line-height:normal;font-family:Menlo,'DejaVu Sans Mono',consolas,'Courier New',monospace\"><span style=\"font-weight: bold\"> Total params: </span><span style=\"color: #00af00; text-decoration-color: #00af00\">1,111,946</span> (4.24 MB)\n",
       "</pre>\n"
      ],
      "text/plain": [
       "\u001b[1m Total params: \u001b[0m\u001b[38;5;34m1,111,946\u001b[0m (4.24 MB)\n"
      ]
     },
     "metadata": {},
     "output_type": "display_data"
    },
    {
     "data": {
      "text/html": [
       "<pre style=\"white-space:pre;overflow-x:auto;line-height:normal;font-family:Menlo,'DejaVu Sans Mono',consolas,'Courier New',monospace\"><span style=\"font-weight: bold\"> Trainable params: </span><span style=\"color: #00af00; text-decoration-color: #00af00\">1,111,946</span> (4.24 MB)\n",
       "</pre>\n"
      ],
      "text/plain": [
       "\u001b[1m Trainable params: \u001b[0m\u001b[38;5;34m1,111,946\u001b[0m (4.24 MB)\n"
      ]
     },
     "metadata": {},
     "output_type": "display_data"
    },
    {
     "data": {
      "text/html": [
       "<pre style=\"white-space:pre;overflow-x:auto;line-height:normal;font-family:Menlo,'DejaVu Sans Mono',consolas,'Courier New',monospace\"><span style=\"font-weight: bold\"> Non-trainable params: </span><span style=\"color: #00af00; text-decoration-color: #00af00\">0</span> (0.00 B)\n",
       "</pre>\n"
      ],
      "text/plain": [
       "\u001b[1m Non-trainable params: \u001b[0m\u001b[38;5;34m0\u001b[0m (0.00 B)\n"
      ]
     },
     "metadata": {},
     "output_type": "display_data"
    }
   ],
   "source": [
    "from tensorflow.keras.models import Sequential\n",
    "from tensorflow.keras.layers import Dense, Conv2D, MaxPooling2D, Flatten, Dropout\n",
    "\n",
    "model = Sequential()\n",
    "model.add(Conv2D(filters=32, kernel_size=[5,5], padding='valid', activation='relu', \n",
    "                 input_shape=(X_train_centered.shape[1:])))\n",
    "model.add(MaxPooling2D(pool_size=[2,2], padding='same'))\n",
    "model.add(Conv2D(filters=64, kernel_size=[5,5], padding='valid', activation='relu'))\n",
    "model.add(MaxPooling2D(pool_size=[2,2], padding='same'))\n",
    "model.add(Flatten())\n",
    "model.add(Dense(1024, activation='relu'))\n",
    "model.add(Dropout(.5))\n",
    "model.add(Dense(10, activation='softmax'))\n",
    "model.summary()"
   ]
  },
  {
   "cell_type": "markdown",
   "metadata": {},
   "source": [
    "###  Before running the following cells, make sure you have installed the required libraries:\n",
    "\n",
    "```bash\n",
    "!pip install pydot\n",
    "!pip install seaborn\n",
    "!pip install git+https://github.com/philipperemy/keract.git\n"
   ]
  },
  {
   "cell_type": "code",
   "execution_count": 87,
   "metadata": {
    "slideshow": {
     "slide_type": "notes"
    }
   },
   "outputs": [],
   "source": [
    "# Requires installation of graphViz\n",
    "import pydot"
   ]
  },
  {
   "cell_type": "code",
   "execution_count": 88,
   "metadata": {
    "slideshow": {
     "slide_type": "notes"
    }
   },
   "outputs": [
    {
     "name": "stdout",
     "output_type": "stream",
     "text": [
      "You must install pydot (`pip install pydot`) for `plot_model` to work.\n"
     ]
    }
   ],
   "source": [
    "# !pip install pydot\n",
    "from keras.utils import plot_model\n",
    "plot_model(model, to_file=\"mod_plot.png\")"
   ]
  },
  {
   "cell_type": "markdown",
   "metadata": {
    "slideshow": {
     "slide_type": "slide"
    }
   },
   "source": [
    "### Compile model and prepare TensorBoard"
   ]
  },
  {
   "cell_type": "code",
   "execution_count": 89,
   "metadata": {
    "slideshow": {
     "slide_type": "slide"
    }
   },
   "outputs": [],
   "source": [
    "from tensorflow.keras.callbacks import ModelCheckpoint\n",
    "from tensorflow.keras.optimizers import Adam\n",
    "\n",
    "opt = Adam(learning_rate=0.0001)\n",
    "model.compile(optimizer=opt,\n",
    "              loss='categorical_crossentropy',\n",
    "              metrics=['accuracy'])"
   ]
  },
  {
   "cell_type": "code",
   "execution_count": 90,
   "metadata": {
    "slideshow": {
     "slide_type": "-"
    }
   },
   "outputs": [
    {
     "name": "stdout",
     "output_type": "stream",
     "text": [
      "Epoch 1/10\n",
      "\u001b[1m782/782\u001b[0m \u001b[32m━━━━━━━━━━━━━━━━━━━━\u001b[0m\u001b[37m\u001b[0m \u001b[1m28s\u001b[0m 33ms/step - accuracy: 0.9015 - loss: 0.3388 - val_accuracy: 0.9727 - val_loss: 0.0954\n",
      "Epoch 2/10\n",
      "\u001b[1m782/782\u001b[0m \u001b[32m━━━━━━━━━━━━━━━━━━━━\u001b[0m\u001b[37m\u001b[0m \u001b[1m26s\u001b[0m 34ms/step - accuracy: 0.9714 - loss: 0.0935 - val_accuracy: 0.9821 - val_loss: 0.0616\n",
      "Epoch 3/10\n",
      "\u001b[1m782/782\u001b[0m \u001b[32m━━━━━━━━━━━━━━━━━━━━\u001b[0m\u001b[37m\u001b[0m \u001b[1m30s\u001b[0m 38ms/step - accuracy: 0.9802 - loss: 0.0646 - val_accuracy: 0.9863 - val_loss: 0.0488\n",
      "Epoch 4/10\n",
      "\u001b[1m782/782\u001b[0m \u001b[32m━━━━━━━━━━━━━━━━━━━━\u001b[0m\u001b[37m\u001b[0m \u001b[1m44s\u001b[0m 56ms/step - accuracy: 0.9837 - loss: 0.0512 - val_accuracy: 0.9873 - val_loss: 0.0466\n",
      "Epoch 5/10\n",
      "\u001b[1m782/782\u001b[0m \u001b[32m━━━━━━━━━━━━━━━━━━━━\u001b[0m\u001b[37m\u001b[0m \u001b[1m27s\u001b[0m 34ms/step - accuracy: 0.9872 - loss: 0.0411 - val_accuracy: 0.9888 - val_loss: 0.0415\n",
      "Epoch 6/10\n",
      "\u001b[1m782/782\u001b[0m \u001b[32m━━━━━━━━━━━━━━━━━━━━\u001b[0m\u001b[37m\u001b[0m \u001b[1m25s\u001b[0m 32ms/step - accuracy: 0.9892 - loss: 0.0352 - val_accuracy: 0.9896 - val_loss: 0.0391\n",
      "Epoch 7/10\n",
      "\u001b[1m782/782\u001b[0m \u001b[32m━━━━━━━━━━━━━━━━━━━━\u001b[0m\u001b[37m\u001b[0m \u001b[1m35s\u001b[0m 44ms/step - accuracy: 0.9909 - loss: 0.0295 - val_accuracy: 0.9907 - val_loss: 0.0367\n",
      "Epoch 8/10\n",
      "\u001b[1m782/782\u001b[0m \u001b[32m━━━━━━━━━━━━━━━━━━━━\u001b[0m\u001b[37m\u001b[0m \u001b[1m39s\u001b[0m 49ms/step - accuracy: 0.9919 - loss: 0.0259 - val_accuracy: 0.9911 - val_loss: 0.0339\n",
      "Epoch 9/10\n",
      "\u001b[1m782/782\u001b[0m \u001b[32m━━━━━━━━━━━━━━━━━━━━\u001b[0m\u001b[37m\u001b[0m \u001b[1m26s\u001b[0m 33ms/step - accuracy: 0.9934 - loss: 0.0215 - val_accuracy: 0.9912 - val_loss: 0.0336\n",
      "Epoch 10/10\n",
      "\u001b[1m782/782\u001b[0m \u001b[32m━━━━━━━━━━━━━━━━━━━━\u001b[0m\u001b[37m\u001b[0m \u001b[1m26s\u001b[0m 33ms/step - accuracy: 0.9947 - loss: 0.0189 - val_accuracy: 0.9911 - val_loss: 0.0316\n"
     ]
    }
   ],
   "source": [
    "history = model.fit(X_train_centered, Y_train, batch_size=64, epochs=10, \n",
    "          verbose=1, shuffle=True, #          verbose=1, shuffle=True,\n",
    "          validation_data=(X_valid_centered, Y_valid))#, callbacks=[checkpoint])\n",
    "# A path bug in TensorFlow 2.0 makes callbacks in Windows difficult, 1.15 requires admin right first time"
   ]
  },
  {
   "cell_type": "markdown",
   "metadata": {
    "slideshow": {
     "slide_type": "slide"
    }
   },
   "source": [
    "### Plot history"
   ]
  },
  {
   "cell_type": "code",
   "execution_count": 91,
   "metadata": {
    "slideshow": {
     "slide_type": "-"
    }
   },
   "outputs": [
    {
     "data": {
      "image/png": "[encoded data removed]",
      "text/plain": [
       "<Figure size 640x480 with 1 Axes>"
      ]
     },
     "metadata": {},
     "output_type": "display_data"
    }
   ],
   "source": [
    "import matplotlib.pyplot as plt\n",
    "\n",
    "# Plot training vs validation loss\n",
    "plt.plot(history.history['loss'], label='Training Loss')\n",
    "plt.plot(history.history['val_loss'], label='Validation Loss')\n",
    "plt.xlabel('Epochs')\n",
    "plt.ylabel('Loss')\n",
    "plt.title('Training vs Validation Loss')\n",
    "plt.legend()\n",
    "plt.show()\n"
   ]
  },
  {
   "cell_type": "markdown",
   "metadata": {
    "slideshow": {
     "slide_type": "slide"
    }
   },
   "source": [
    "### Evaluate on test data"
   ]
  },
  {
   "cell_type": "code",
   "execution_count": 92,
   "metadata": {
    "slideshow": {
     "slide_type": "-"
    }
   },
   "outputs": [
    {
     "name": "stderr",
     "output_type": "stream",
     "text": [
      "WARNING:absl:You are saving your model as an HDF5 file via `model.save()` or `keras.saving.save_model(model)`. This file format is considered legacy. We recommend using instead the native Keras format, e.g. `model.save('my_model.keras')` or `keras.saving.save_model(model, 'my_model.keras')`. \n"
     ]
    }
   ],
   "source": [
    "# Explicit saving of the model for later use\n",
    "model.save('models/MNIST.h5')"
   ]
  },
  {
   "cell_type": "code",
   "execution_count": 93,
   "metadata": {
    "slideshow": {
     "slide_type": "-"
    }
   },
   "outputs": [
    {
     "name": "stdout",
     "output_type": "stream",
     "text": [
      "\u001b[1m313/313\u001b[0m \u001b[32m━━━━━━━━━━━━━━━━━━━━\u001b[0m\u001b[37m\u001b[0m \u001b[1m3s\u001b[0m 8ms/step - accuracy: 0.9926 - loss: 0.0229\n"
     ]
    },
    {
     "data": {
      "text/plain": [
       "[0.022917907685041428, 0.9926000237464905]"
      ]
     },
     "execution_count": 93,
     "metadata": {},
     "output_type": "execute_result"
    }
   ],
   "source": [
    "# Prediction\n",
    "#from tensorflow.keras.models import load_model\n",
    "#model = load_model('models/MNIST.h5')\n",
    "model.evaluate(X_test_centered, Y_test)"
   ]
  },
  {
   "cell_type": "code",
   "execution_count": 94,
   "metadata": {},
   "outputs": [
    {
     "data": {
      "text/plain": [
       "77.00026035308838"
      ]
     },
     "execution_count": 94,
     "metadata": {},
     "output_type": "execute_result"
    }
   ],
   "source": [
    "10000*(1-0.9922999739646912)"
   ]
  },
  {
   "cell_type": "markdown",
   "metadata": {
    "slideshow": {
     "slide_type": "slide"
    }
   },
   "source": [
    "### Probabilities of each class"
   ]
  },
  {
   "cell_type": "code",
   "execution_count": 95,
   "metadata": {
    "slideshow": {
     "slide_type": "-"
    }
   },
   "outputs": [
    {
     "name": "stdout",
     "output_type": "stream",
     "text": [
      "\u001b[1m1/1\u001b[0m \u001b[32m━━━━━━━━━━━━━━━━━━━━\u001b[0m\u001b[37m\u001b[0m \u001b[1m0s\u001b[0m 354ms/step\n"
     ]
    },
    {
     "data": {
      "image/png": "[encoded data removed]",
      "text/plain": [
       "<Figure size 640x480 with 2 Axes>"
      ]
     },
     "metadata": {},
     "output_type": "display_data"
    },
    {
     "name": "stdout",
     "output_type": "stream",
     "text": [
      "\u001b[1m1/1\u001b[0m \u001b[32m━━━━━━━━━━━━━━━━━━━━\u001b[0m\u001b[37m\u001b[0m \u001b[1m0s\u001b[0m 370ms/step\n"
     ]
    },
    {
     "data": {
      "text/plain": [
       "array([[3.2480810e-10, 3.1454743e-08, 6.9970653e-08, 3.3099826e-07,\n",
       "        4.2330124e-12, 7.3333861e-10, 3.0760908e-13, 9.9999928e-01,\n",
       "        4.1096862e-11, 1.7047918e-07],\n",
       "       [9.0840479e-07, 5.2193514e-07, 9.9999857e-01, 2.4509367e-10,\n",
       "        2.5665685e-12, 7.2691571e-13, 4.8133706e-09, 1.0693348e-10,\n",
       "        3.9116377e-09, 3.3390944e-13],\n",
       "       [2.3927264e-06, 9.9966621e-01, 6.9982052e-06, 5.1664351e-08,\n",
       "        1.6758739e-05, 2.0239780e-07, 3.1806151e-06, 3.0207605e-04,\n",
       "        1.8142885e-06, 4.0282333e-07],\n",
       "       [9.9997640e-01, 5.3489049e-09, 9.4158240e-06, 3.0040610e-08,\n",
       "        5.0330802e-09, 1.1500927e-07, 1.3119787e-05, 3.2694271e-07,\n",
       "        3.7749342e-07, 2.6259787e-07]], dtype=float32)"
      ]
     },
     "execution_count": 95,
     "metadata": {},
     "output_type": "execute_result"
    }
   ],
   "source": [
    "# Predict with probabilities\n",
    "import seaborn as sns\n",
    "import matplotlib.pyplot as plt\n",
    "sns.heatmap(model.predict(X_test_centered[:4,:]))\n",
    "plt.show()\n",
    "model.predict(X_test_centered[:4,:])"
   ]
  },
  {
   "cell_type": "markdown",
   "metadata": {
    "slideshow": {
     "slide_type": "slide"
    }
   },
   "source": [
    "### Confusion matrix"
   ]
  },
  {
   "cell_type": "code",
   "execution_count": 96,
   "metadata": {
    "slideshow": {
     "slide_type": "-"
    }
   },
   "outputs": [
    {
     "name": "stdout",
     "output_type": "stream",
     "text": [
      "\u001b[1m313/313\u001b[0m \u001b[32m━━━━━━━━━━━━━━━━━━━━\u001b[0m\u001b[37m\u001b[0m \u001b[1m3s\u001b[0m 9ms/step\n"
     ]
    },
    {
     "data": {
      "text/plain": [
       "array([[ 977,    0,    0,    0,    0,    0,    1,    1,    1,    0],\n",
       "       [   0, 1131,    1,    0,    0,    0,    1,    2,    0,    0],\n",
       "       [   0,    0, 1030,    0,    0,    0,    0,    2,    0,    0],\n",
       "       [   0,    0,    1, 1003,    0,    3,    0,    2,    1,    0],\n",
       "       [   0,    0,    1,    0,  972,    0,    4,    1,    1,    3],\n",
       "       [   2,    0,    0,    5,    0,  883,    1,    0,    0,    1],\n",
       "       [   3,    2,    0,    0,    1,    1,  950,    0,    1,    0],\n",
       "       [   0,    2,    2,    0,    0,    0,    0, 1023,    0,    1],\n",
       "       [   1,    0,    2,    3,    0,    2,    0,    1,  962,    3],\n",
       "       [   3,    1,    0,    0,    3,    3,    0,    4,    0,  995]],\n",
       "      dtype=int64)"
      ]
     },
     "execution_count": 96,
     "metadata": {},
     "output_type": "execute_result"
    }
   ],
   "source": [
    "from sklearn.metrics import confusion_matrix\n",
    "import numpy as np\n",
    "confusion_matrix(y_test,np.argmax(model.predict(X_test_centered), axis=1), labels = list(range(10)))"
   ]
  },
  {
   "cell_type": "markdown",
   "metadata": {
    "slideshow": {
     "slide_type": "slide"
    }
   },
   "source": [
    "### Activation of examples"
   ]
  },
  {
   "cell_type": "code",
   "execution_count": 97,
   "metadata": {
    "slideshow": {
     "slide_type": "-"
    }
   },
   "outputs": [
    {
     "data": {
      "image/png": "[encoded data removed]",
      "text/plain": [
       "<Figure size 640x480 with 1 Axes>"
      ]
     },
     "metadata": {},
     "output_type": "display_data"
    },
    {
     "name": "stdout",
     "output_type": "stream",
     "text": [
      "Ground truth: 7\n"
     ]
    },
    {
     "data": {
      "text/plain": [
       "<Figure size 4000x4000 with 0 Axes>"
      ]
     },
     "execution_count": 97,
     "metadata": {},
     "output_type": "execute_result"
    },
    {
     "data": {
      "text/plain": [
       "<Figure size 4000x4000 with 0 Axes>"
      ]
     },
     "metadata": {},
     "output_type": "display_data"
    }
   ],
   "source": [
    "sampleNum = 122\n",
    "plt.figure()\n",
    "plt.imshow(X_test_centered[sampleNum,:,:,0], interpolation='None', cmap='jet')\n",
    "plt.show()\n",
    "print(\"Ground truth: {}\".format(y_test[sampleNum]))\n",
    "plt.figure(figsize=(10, 10), dpi=400)"
   ]
  },
  {
   "cell_type": "markdown",
   "metadata": {
    "slideshow": {
     "slide_type": "slide"
    }
   },
   "source": [
    "## keras API \n"
   ]
  },
  {
   "cell_type": "code",
   "execution_count": 108,
   "metadata": {},
   "outputs": [
    {
     "name": "stdout",
     "output_type": "stream",
     "text": [
      "\u001b[1m1/1\u001b[0m \u001b[32m━━━━━━━━━━━━━━━━━━━━\u001b[0m\u001b[37m\u001b[0m \u001b[1m0s\u001b[0m 57ms/step\n",
      "\u001b[1m1/1\u001b[0m \u001b[32m━━━━━━━━━━━━━━━━━━━━\u001b[0m\u001b[37m\u001b[0m \u001b[1m0s\u001b[0m 90ms/step\n",
      "Layer: conv2d_4\n",
      "Activation shape: (1, 24, 24, 32)\n"
     ]
    }
   ],
   "source": [
    "from tensorflow.keras.models import Model\n",
    "\n",
    "# Ensure the model is \"built\"\n",
    "_ = model.predict(X_test_centered[:1])\n",
    "\n",
    "layer_name = \"conv2d_4\"  \n",
    "\n",
    "intermediate_layer_model = Model(\n",
    "    inputs=model.layers[0].input,\n",
    "    outputs=model.get_layer(layer_name).output\n",
    ")\n",
    "\n",
    "sample = X_test_centered[:1]\n",
    "intermediate_output = intermediate_layer_model.predict(sample)\n",
    "\n",
    "print(\"Layer:\", layer_name)\n",
    "print(\"Activation shape:\", intermediate_output.shape)\n"
   ]
  },
  {
   "cell_type": "code",
   "execution_count": 109,
   "metadata": {},
   "outputs": [
    {
     "data": {
      "image/png": "[encoded data removed]",
      "text/plain": [
       "<Figure size 1200x600 with 32 Axes>"
      ]
     },
     "metadata": {},
     "output_type": "display_data"
    }
   ],
   "source": [
    "import matplotlib.pyplot as plt\n",
    "\n",
    "activations = intermediate_output[0]  \n",
    "num_filters = activations.shape[-1]\n",
    "\n",
    "fig, axes = plt.subplots(4, 8, figsize=(12, 6))\n",
    "for i, ax in enumerate(axes.flat):\n",
    "    ax.imshow(activations[:, :, i], cmap=\"viridis\")\n",
    "    ax.axis(\"off\")\n",
    "plt.show()\n"
   ]
  },
  {
   "cell_type": "markdown",
   "metadata": {
    "slideshow": {
     "slide_type": "slide"
    }
   },
   "source": [
    "### Weights from layers"
   ]
  },
  {
   "cell_type": "code",
   "execution_count": 110,
   "metadata": {
    "slideshow": {
     "slide_type": "-"
    }
   },
   "outputs": [
    {
     "name": "stdout",
     "output_type": "stream",
     "text": [
      "(5, 5, 1, 32)\n"
     ]
    },
    {
     "data": {
      "text/plain": [
       "<Axes: >"
      ]
     },
     "execution_count": 110,
     "metadata": {},
     "output_type": "execute_result"
    },
    {
     "data": {
      "image/png": "[encoded data removed]",
      "text/plain": [
       "<Figure size 640x480 with 2 Axes>"
      ]
     },
     "metadata": {},
     "output_type": "display_data"
    }
   ],
   "source": [
    "layer = 0\n",
    "filter = 4\n",
    "weights, biases = model.layers[layer].get_weights()\n",
    "print(weights.shape)\n",
    "sns.heatmap(weights[:,:,0,filter])"
   ]
  },
  {
   "cell_type": "markdown",
   "metadata": {
    "slideshow": {
     "slide_type": "slide"
    }
   },
   "source": [
    "## Adverserial attacks\n",
    "https://towardsdatascience.com/breaking-neural-networks-with-adversarial-attacks-f4290a9a45aa\n",
    "- Neural networks can sometimes be fooled\n",
    "- Simple image manipulation can cause mis-classification\n",
    "  - Structured, invisible noise\n",
    "  - Carefully placed stickers or tape on objects\n",
    "  - Drawings of maximum activation patterns\n",
    "- Can be limited using heavier computations\n",
    "  - Added noise in image augmentation or weights\n",
    "  - Train on soft targets (not 0/1)\n",
    "  - Add adverserial examples in training"
   ]
  },
  {
   "cell_type": "markdown",
   "metadata": {
    "slideshow": {
     "slide_type": "slide"
    }
   },
   "source": [
    "## Pipelining\n",
    "- On-the-fly batch-wise pre-processing \n",
    "    - Read from disk\n",
    "    - Convert to correct format\n",
    "    - Reshape\n",
    "    - Augment training set"
   ]
  },
  {
   "cell_type": "code",
   "execution_count": 111,
   "metadata": {
    "slideshow": {
     "slide_type": "-"
    }
   },
   "outputs": [],
   "source": [
    "from tensorflow.keras.preprocessing.image import ImageDataGenerator\n",
    "datagen = ImageDataGenerator(width_shift_range=0.2,\n",
    "                            height_shift_range=0.2,\n",
    "                            zoom_range=0.2,\n",
    "                            rotation_range=30,\n",
    "                            vertical_flip=False,\n",
    "                            horizontal_flip=False)\n",
    "datagen.fit(X_train_centered)\n",
    "train_generator = datagen.flow(np.array(X_train_centered), np.array(Y_train), \n",
    "                               batch_size=64)\n",
    "# flow_from_directory for direct import from image files (can include resizing)\n",
    "# flow_from_dataframe for direct import based on a list of file names (numbering counted alphabetically)"
   ]
  },
  {
   "cell_type": "markdown",
   "metadata": {
    "slideshow": {
     "slide_type": "slide"
    }
   },
   "source": [
    "## More augmentations:\n",
    "https://github.com/albumentations-team/albumentations"
   ]
  },
  {
   "cell_type": "markdown",
   "metadata": {
    "slideshow": {
     "slide_type": "slide"
    }
   },
   "source": [
    "### Applying the image generator"
   ]
  },
  {
   "cell_type": "code",
   "execution_count": 113,
   "metadata": {
    "lines_to_next_cell": 2,
    "slideshow": {
     "slide_type": "-"
    }
   },
   "outputs": [
    {
     "name": "stdout",
     "output_type": "stream",
     "text": [
      "Epoch 1/10\n",
      "\u001b[1m781/781\u001b[0m \u001b[32m━━━━━━━━━━━━━━━━━━━━\u001b[0m\u001b[37m\u001b[0m \u001b[1m50s\u001b[0m 63ms/step - accuracy: 0.7776 - loss: 0.7164 - val_accuracy: 0.9793 - val_loss: 0.0782\n",
      "Epoch 2/10\n",
      "\u001b[1m  1/781\u001b[0m \u001b[37m━━━━━━━━━━━━━━━━━━━━\u001b[0m \u001b[1m27s\u001b[0m 35ms/step - accuracy: 0.9062 - loss: 0.2792"
     ]
    },
    {
     "name": "stderr",
     "output_type": "stream",
     "text": [
      "C:\\Users\\alfa\\.conda\\envs\\dat300-env\\lib\\site-packages\\keras\\src\\trainers\\epoch_iterator.py:116: UserWarning: Your input ran out of data; interrupting training. Make sure that your dataset or generator can generate at least `steps_per_epoch * epochs` batches. You may need to use the `.repeat()` function when building your dataset.\n",
      "  self._interrupted_warning()\n"
     ]
    },
    {
     "name": "stdout",
     "output_type": "stream",
     "text": [
      "\u001b[1m781/781\u001b[0m \u001b[32m━━━━━━━━━━━━━━━━━━━━\u001b[0m\u001b[37m\u001b[0m \u001b[1m2s\u001b[0m 3ms/step - accuracy: 0.9062 - loss: 0.2792 - val_accuracy: 0.9786 - val_loss: 0.0801\n",
      "Epoch 3/10\n",
      "\u001b[1m781/781\u001b[0m \u001b[32m━━━━━━━━━━━━━━━━━━━━\u001b[0m\u001b[37m\u001b[0m \u001b[1m52s\u001b[0m 66ms/step - accuracy: 0.8872 - loss: 0.3670 - val_accuracy: 0.9828 - val_loss: 0.0597\n",
      "Epoch 4/10\n",
      "\u001b[1m781/781\u001b[0m \u001b[32m━━━━━━━━━━━━━━━━━━━━\u001b[0m\u001b[37m\u001b[0m \u001b[1m3s\u001b[0m 3ms/step - accuracy: 0.8906 - loss: 0.4556 - val_accuracy: 0.9822 - val_loss: 0.0603\n",
      "Epoch 5/10\n",
      "\u001b[1m781/781\u001b[0m \u001b[32m━━━━━━━━━━━━━━━━━━━━\u001b[0m\u001b[37m\u001b[0m \u001b[1m61s\u001b[0m 78ms/step - accuracy: 0.9122 - loss: 0.2848 - val_accuracy: 0.9842 - val_loss: 0.0514\n",
      "Epoch 6/10\n",
      "\u001b[1m781/781\u001b[0m \u001b[32m━━━━━━━━━━━━━━━━━━━━\u001b[0m\u001b[37m\u001b[0m \u001b[1m2s\u001b[0m 2ms/step - accuracy: 0.9219 - loss: 0.2416 - val_accuracy: 0.9844 - val_loss: 0.0510\n",
      "Epoch 7/10\n",
      "\u001b[1m781/781\u001b[0m \u001b[32m━━━━━━━━━━━━━━━━━━━━\u001b[0m\u001b[37m\u001b[0m \u001b[1m51s\u001b[0m 65ms/step - accuracy: 0.9260 - loss: 0.2393 - val_accuracy: 0.9849 - val_loss: 0.0526\n",
      "Epoch 8/10\n",
      "\u001b[1m781/781\u001b[0m \u001b[32m━━━━━━━━━━━━━━━━━━━━\u001b[0m\u001b[37m\u001b[0m \u001b[1m3s\u001b[0m 4ms/step - accuracy: 0.9375 - loss: 0.2117 - val_accuracy: 0.9851 - val_loss: 0.0526\n",
      "Epoch 9/10\n",
      "\u001b[1m781/781\u001b[0m \u001b[32m━━━━━━━━━━━━━━━━━━━━\u001b[0m\u001b[37m\u001b[0m \u001b[1m53s\u001b[0m 68ms/step - accuracy: 0.9361 - loss: 0.2064 - val_accuracy: 0.9830 - val_loss: 0.0565\n",
      "Epoch 10/10\n",
      "\u001b[1m781/781\u001b[0m \u001b[32m━━━━━━━━━━━━━━━━━━━━\u001b[0m\u001b[37m\u001b[0m \u001b[1m3s\u001b[0m 3ms/step - accuracy: 0.9219 - loss: 0.2115 - val_accuracy: 0.9832 - val_loss: 0.0575\n"
     ]
    }
   ],
   "source": [
    "historyFlow = model.fit(\n",
    "    train_generator,\n",
    "    epochs=10,\n",
    "    steps_per_epoch=len(X_train_centered) // 64,\n",
    "    validation_data=(X_valid_centered, Y_valid)\n",
    ")\n"
   ]
  },
  {
   "cell_type": "markdown",
   "metadata": {
    "slideshow": {
     "slide_type": "slide"
    }
   },
   "source": [
    "## Softmax activation\n",
    "$$\\sigma (a)_i = \\frac{e^{a_i}}{\\sum_{j=1}^K e^{a_j}} = h_i$$\n",
    "- The activation of class $i$\n",
    "- Exponent of each dummy input divided by the sum of exponents of all dummy inputs\n",
    "  - Class activations sum to 1\n",
    "- Only for output layer of a model"
   ]
  },
  {
   "cell_type": "code",
   "execution_count": 114,
   "metadata": {
    "slideshow": {
     "slide_type": "slide"
    }
   },
   "outputs": [
    {
     "data": {
      "text/plain": [
       "array([[0.  , 0.  , 0.27, 0.73],\n",
       "       [0.98, 0.  , 0.01, 0.02]], dtype=float32)"
      ]
     },
     "execution_count": 114,
     "metadata": {},
     "output_type": "execute_result"
    }
   ],
   "source": [
    "import tensorflow as tf\n",
    "def round_tensor(x, dec):\n",
    "    return np.round(tf.make_ndarray(tf.make_tensor_proto(x)), dec)\n",
    "\n",
    "a = tf.constant([[-5, 0, 5, 6], [10, 0, 5, 6]], dtype=tf.float32)\n",
    "b = tf.keras.activations.softmax(a)\n",
    "round_tensor(b, 2)"
   ]
  },
  {
   "cell_type": "markdown",
   "metadata": {
    "slideshow": {
     "slide_type": "slide"
    }
   },
   "source": [
    "## ReLU activation\n",
    "$\\sigma(x) = max(0, x)$"
   ]
  },
  {
   "cell_type": "code",
   "execution_count": 115,
   "metadata": {
    "slideshow": {
     "slide_type": "fragment"
    }
   },
   "outputs": [
    {
     "data": {
      "image/png": "[encoded data removed]",
      "text/plain": [
       "<Figure size 640x480 with 4 Axes>"
      ]
     },
     "metadata": {},
     "output_type": "display_data"
    }
   ],
   "source": [
    "import matplotlib.pyplot as plt\n",
    "x = tf.constant([-5, -3, 0, 1, 5, 6], dtype=tf.float32)\n",
    "z = tf.constant(tf.range(-5,5, 0.01))\n",
    "a = tf.keras.activations.relu(x); b = tf.keras.activations.relu(z) \n",
    "d = tf.keras.activations.relu(z, 0, 3) # Thresholded\n",
    "e = tf.keras.activations.relu(z, 0.2)  # Leaky\n",
    "plt.subplot(2, 2, 1); plt.plot(x); plt.plot(round_tensor(a, 3)); plt.xlabel('index'); plt.ylabel('x and h'); plt.title('ReLU')\n",
    "plt.subplot(2, 2, 2); plt.plot(tf.range(-5,5, 0.01),z); plt.plot(tf.range(-5,5, 0.01),round_tensor(b, 3)); plt.xlabel('x'); plt.ylabel('h'); plt.title('ReLU')\n",
    "plt.subplot(2, 2, 3); plt.plot(tf.range(-5,5, 0.01),z); plt.plot(tf.range(-5,5, 0.01),round_tensor(d, 3)); plt.xlabel('x'); plt.ylabel('h'); plt.title('Thresholded ReLU')\n",
    "plt.subplot(2, 2, 4); plt.plot(tf.range(-5,5, 0.01),z); plt.plot(tf.range(-5,5, 0.01),round_tensor(e, 3)); plt.xlabel('x'); plt.ylabel('h'); plt.title('Leaky ReLU')\n",
    "plt.tight_layout(); plt.show()"
   ]
  },
  {
   "cell_type": "markdown",
   "metadata": {
    "slideshow": {
     "slide_type": "slide"
    }
   },
   "source": [
    "## Swish activation\n",
    "$\\sigma(x) = x \\cdot sigmoid(x) = \\frac{x}{1+e^{-x}}$"
   ]
  },
  {
   "cell_type": "code",
   "execution_count": 116,
   "metadata": {
    "slideshow": {
     "slide_type": "fragment"
    }
   },
   "outputs": [
    {
     "data": {
      "image/png": "[encoded data removed]",
      "text/plain": [
       "<Figure size 640x480 with 4 Axes>"
      ]
     },
     "metadata": {},
     "output_type": "display_data"
    }
   ],
   "source": [
    "x = tf.constant([-5, -3, 0, 1, 5, 6], dtype=tf.float32)\n",
    "z = tf.constant(tf.range(-5,5, 0.01))\n",
    "a = tf.keras.activations.swish(x)\n",
    "c = tf.keras.activations.swish(z)\n",
    "f = tf.keras.activations.sigmoid(z)\n",
    "plt.subplot(2, 2, 1); plt.plot(x); plt.plot(round_tensor(a, 3)); plt.xlabel('index'); plt.ylabel('x and h'); plt.title('Swish')\n",
    "plt.subplot(2, 2, 2); plt.plot(tf.range(-5,5, 0.01),z); plt.plot(tf.range(-5,5, 0.01),round_tensor(c, 3)); plt.xlabel('x'); plt.ylabel('h'); plt.title('Swish')\n",
    "plt.subplot(2, 2, 3); plt.plot(tf.range(-5,5, 0.01),z); plt.plot(tf.range(-5,5, 0.01),round_tensor(b, 3)); plt.xlabel('x'); plt.ylabel('h'); plt.title('ReLU')\n",
    "plt.subplot(2, 2, 4); plt.plot(tf.range(-5,5, 0.01),z); plt.plot(tf.range(-5,5, 0.01),round_tensor(f, 3)); plt.xlabel('x'); plt.ylabel('h'); plt.title('Sigmoid'); plt.ylim([-1,2])\n",
    "plt.tight_layout(); plt.show()"
   ]
  },
  {
   "cell_type": "markdown",
   "metadata": {
    "slideshow": {
     "slide_type": "slide"
    }
   },
   "source": [
    "### Activation Function Comparison\n",
    "\n",
    "| Function       | Positive side         | Negative side                 | Gradient behavior                  |\n",
    "|----------------|----------------------|-------------------------------|------------------------------------|\n",
    "| **ReLU**       | Passes input through | Zero output                   | Zero gradient for negatives        |\n",
    "| **Leaky ReLU** | Passes input through | Small negative slope          | Constant small gradient for negatives |\n",
    "| **Swish**      | Similar to input     | Small negative values allowed | Gradient smoothly varies with input |\n"
   ]
  }
 ],
 "metadata": {
  "celltoolbar": "Slideshow",
  "jupytext": {
   "cell_metadata_json": true,
   "encoding": "# -*- coding: utf-8 -*-",
   "formats": "ipynb,py"
  },
  "kernelspec": {
   "display_name": "Python (dat300-env)",
   "language": "python",
   "name": "dat300-env"
  },
  "language_info": {
   "codemirror_mode": {
    "name": "ipython",
    "version": 3
   },
   "file_extension": ".py",
   "mimetype": "text/x-python",
   "name": "python",
   "nbconvert_exporter": "python",
   "pygments_lexer": "ipython3",
   "version": "3.10.18"
  },
  "rise": {
   "height": "95%",
   "scroll": false,
   "width": "95%"
  },
  "varInspector": {
   "cols": {
    "lenName": 16,
    "lenType": 16,
    "lenVar": 40
   },
   "kernels_config": {
    "python": {
     "delete_cmd_postfix": "",
     "delete_cmd_prefix": "del ",
     "library": "var_list.py",
     "varRefreshCmd": "print(var_dic_list())"
    },
    "r": {
     "delete_cmd_postfix": ") ",
     "delete_cmd_prefix": "rm(",
     "library": "var_list.r",
     "varRefreshCmd": "cat(var_dic_list()) "
    }
   },
   "types_to_exclude": [
    "module",
    "function",
    "builtin_function_or_method",
    "instance",
    "_Feature"
   ],
   "window_display": false
  }
 },
 "nbformat": 4,
 "nbformat_minor": 2
}
